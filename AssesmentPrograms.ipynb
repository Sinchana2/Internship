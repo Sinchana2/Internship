{
 "cells": [
  {
   "cell_type": "code",
   "execution_count": 1,
   "id": "c3241198",
   "metadata": {},
   "outputs": [
    {
     "name": "stdout",
     "output_type": "stream",
     "text": [
      "Enter a number: 8\n",
      "8 is not a prime number\n"
     ]
    }
   ],
   "source": [
    "# Program to check if a number is prime or not\n",
    "\n",
    "# take input from the user\n",
    "num = int(input(\"Enter a number: \"))\n",
    "# define a flag variable\n",
    "flag = False\n",
    "# prime numbers are greater than 1 if num > 1:\n",
    "# check for factors\n",
    "for i in range(2, num):\n",
    "    if (num % i) == 0:\n",
    "        # if factor is found, set flag to True\n",
    "        flag = True\n",
    "        # print number is not a Prime Number\n",
    "        print(num, \"is not a prime number\")\n",
    "        break\n",
    "    # if factor not found,print the number as Prime number\n",
    "else: \n",
    "    print(num, \"is a prime number\")"
   ]
  },
  {
   "cell_type": "code",
   "execution_count": 2,
   "id": "4181458a",
   "metadata": {},
   "outputs": [
    {
     "name": "stdout",
     "output_type": "stream",
     "text": [
      "Enter a number: 7\n",
      "The factorial of 7 is 5040\n"
     ]
    }
   ],
   "source": [
    "# Python program to find the factorial of a number provided by the user.\n",
    "\n",
    "# To take input from the user\n",
    "num = int(input(\"Enter a number: \"))\n",
    "\n",
    "factorial = 1\n",
    "# check if the number is negative, positive or zero\n",
    "if num < 0:\n",
    "    print(\"Sorry, factorial does not exist for negative numbers\")\n",
    "elif num == 0:\n",
    "    print(\"The factorial of 0 is 1\")\n",
    "else:\n",
    "    for i in range(1,num + 1):\n",
    "        factorial = factorial*i\n",
    "    print(\"The factorial of\",num,\"is\",factorial)"
   ]
  },
  {
   "cell_type": "code",
   "execution_count": 3,
   "id": "ef1c5bd4",
   "metadata": {},
   "outputs": [
    {
     "name": "stdout",
     "output_type": "stream",
     "text": [
      "Enter a string:iTopiNonAvevAnoNipoTi\n",
      "The string is a palindrome\n"
     ]
    }
   ],
   "source": [
    "# Python program to find the given string is Palindrome or not\n",
    "\n",
    "# Take input from the user\n",
    "string=input((\"Enter a string:\"))\n",
    "\n",
    "if(string==string[::-1]):\n",
    "    print(\"The string is a palindrome\")\n",
    "else:\n",
    "    print(\"Not a palindrome\")\n",
    "# ex- iTopiNonAvevAnoNipoTi - palindrome"
   ]
  },
  {
   "cell_type": "code",
   "execution_count": 60,
   "id": "97698464",
   "metadata": {},
   "outputs": [
    {
     "name": "stdout",
     "output_type": "stream",
     "text": [
      "Hypotenuse = 5.0\n"
     ]
    }
   ],
   "source": [
    "# Python program to find the Third side of a given triangle when other two sides are known\n",
    "\n",
    "def pythagoras(opposite_side,adjacent_side,hypotenuse):\n",
    "    if opposite_side == str(\"x\"): \n",
    "        return (\"Opposite = \" + str(((hypotenuse**2) - (adjacent_side**2))**0.5))\n",
    "    elif adjacent_side == str(\"x\"): \n",
    "        return (\"Adjacent = \" + str(((hypotenuse**2) - (opposite_side**2))**0.5)) \n",
    "    elif hypotenuse == str(\"x\"): \n",
    "        return (\"Hypotenuse = \" + str(((opposite_side**2) + (adjacent_side**2))**0.5)) \n",
    "    else: \n",
    "        return \"You know the answer!\" \n",
    "print(pythagoras(3,4,'x')) \n",
    "#print(pythagoras(3,'x',5)) \n",
    "#print(pythagoras('x',4,5)) \n",
    "#print(pythagoras(3,4,5))"
   ]
  },
  {
   "cell_type": "code",
   "execution_count": 4,
   "id": "85bb409c",
   "metadata": {},
   "outputs": [
    {
     "name": "stdout",
     "output_type": "stream",
     "text": [
      "The count of all characters in GeeksforGeeks is :\n",
      " {'n': 2, 'r': 1, 'h': 1, 'e': 3, 'v': 1, 'F': 2, 'G': 1, 'i': 3, 'l': 2, 'm': 1, 'I': 1, 'a': 3, 'T': 1, 's': 1, 'd': 1, 't': 2}\n"
     ]
    }
   ],
   "source": [
    "# Print the count of each occurences of an alphabet\n",
    "\n",
    "test_str = \"TheGreatIndianFilmFestival\"\n",
    "\n",
    "# using set() + count() to get count of each element in string \n",
    "res = {i : test_str.count(i) for i in set(test_str)}\n",
    "\n",
    "# printing result \n",
    "print (\"The count of all characters in GeeksforGeeks is :\\n \"+str(res))\n"
   ]
  },
  {
   "cell_type": "code",
   "execution_count": null,
   "id": "39c22c46",
   "metadata": {},
   "outputs": [],
   "source": []
  }
 ],
 "metadata": {
  "kernelspec": {
   "display_name": "Python 3",
   "language": "python",
   "name": "python3"
  },
  "language_info": {
   "codemirror_mode": {
    "name": "ipython",
    "version": 3
   },
   "file_extension": ".py",
   "mimetype": "text/x-python",
   "name": "python",
   "nbconvert_exporter": "python",
   "pygments_lexer": "ipython3",
   "version": "3.8.8"
  }
 },
 "nbformat": 4,
 "nbformat_minor": 5
}
