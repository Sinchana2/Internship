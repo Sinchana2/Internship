{
 "cells": [
  {
   "cell_type": "code",
   "execution_count": 1,
   "id": "52282524",
   "metadata": {},
   "outputs": [],
   "source": [
    "from bs4 import BeautifulSoup\n",
    "import requests"
   ]
  },
  {
   "cell_type": "code",
   "execution_count": 2,
   "id": "7db849f3",
   "metadata": {},
   "outputs": [],
   "source": [
    "import pandas as pd\n",
    "data = pd.DataFrame()"
   ]
  },
  {
   "cell_type": "code",
   "execution_count": 3,
   "id": "bac46efd",
   "metadata": {},
   "outputs": [],
   "source": [
    "def ScrappedMovieList(URL):\n",
    "    page = requests.get(URL)\n",
    "    soup = BeautifulSoup(page.content)\n",
    "    indian_scrapped_movies= soup.find_all('td',class_='titleColumn')\n",
    "    ind_movies=[]\n",
    "    for movie in indian_scrapped_movies:\n",
    "        movie=movie.get_text().replace('\\n',\" \")\n",
    "        movie=movie.strip(\" \")\n",
    "        ind_movies.append(movie)\n",
    "    data['Indian_movie_names']= ind_movies\n",
    "movies=ScrappedMovieList(\"https://www.imdb.com/india/top-rated-indian-movies/\")"
   ]
  },
  {
   "cell_type": "code",
   "execution_count": 4,
   "id": "3deefe66",
   "metadata": {},
   "outputs": [],
   "source": [
    "def ScrappedRatingsList(URL):\n",
    "    page = requests.get(URL)\n",
    "    soup = BeautifulSoup(page.content)\n",
    "    scrapped_rating= soup.find_all('td',class_='ratingColumn imdbRating')\n",
    "    ratings=[]\n",
    "    for i in scrapped_rating:\n",
    "        i=i.get_text().replace('\\n',\" \")\n",
    "        ratings.append(i)\n",
    "    data['Ratings']= ratings\n",
    "ScrappedRatingsList(\"https://www.imdb.com/india/top-rated-indian-movies/\")"
   ]
  },
  {
   "cell_type": "code",
   "execution_count": 5,
   "id": "210b149b",
   "metadata": {},
   "outputs": [
    {
     "data": {
      "text/html": [
       "<div>\n",
       "<style scoped>\n",
       "    .dataframe tbody tr th:only-of-type {\n",
       "        vertical-align: middle;\n",
       "    }\n",
       "\n",
       "    .dataframe tbody tr th {\n",
       "        vertical-align: top;\n",
       "    }\n",
       "\n",
       "    .dataframe thead th {\n",
       "        text-align: right;\n",
       "    }\n",
       "</style>\n",
       "<table border=\"1\" class=\"dataframe\">\n",
       "  <thead>\n",
       "    <tr style=\"text-align: right;\">\n",
       "      <th></th>\n",
       "      <th>Indian_movie_names</th>\n",
       "      <th>Ratings</th>\n",
       "    </tr>\n",
       "  </thead>\n",
       "  <tbody>\n",
       "    <tr>\n",
       "      <th>0</th>\n",
       "      <td>1.       Sardar Udham (2021)</td>\n",
       "      <td>8.6</td>\n",
       "    </tr>\n",
       "    <tr>\n",
       "      <th>1</th>\n",
       "      <td>2.       Nayakan (1987)</td>\n",
       "      <td>8.5</td>\n",
       "    </tr>\n",
       "    <tr>\n",
       "      <th>2</th>\n",
       "      <td>3.       Anbe Sivam (2003)</td>\n",
       "      <td>8.5</td>\n",
       "    </tr>\n",
       "    <tr>\n",
       "      <th>3</th>\n",
       "      <td>4.       Pariyerum Perumal (2018)</td>\n",
       "      <td>8.5</td>\n",
       "    </tr>\n",
       "    <tr>\n",
       "      <th>4</th>\n",
       "      <td>5.       C/o Kancharapalem (2018)</td>\n",
       "      <td>8.5</td>\n",
       "    </tr>\n",
       "    <tr>\n",
       "      <th>...</th>\n",
       "      <td>...</td>\n",
       "      <td>...</td>\n",
       "    </tr>\n",
       "    <tr>\n",
       "      <th>95</th>\n",
       "      <td>96.       Roja (1992)</td>\n",
       "      <td>8.1</td>\n",
       "    </tr>\n",
       "    <tr>\n",
       "      <th>96</th>\n",
       "      <td>97.       Dil Chahta Hai (2001)</td>\n",
       "      <td>8.1</td>\n",
       "    </tr>\n",
       "    <tr>\n",
       "      <th>97</th>\n",
       "      <td>98.       Rang De Basanti (2006)</td>\n",
       "      <td>8.1</td>\n",
       "    </tr>\n",
       "    <tr>\n",
       "      <th>98</th>\n",
       "      <td>99.       OMG: Oh My God! (2012)</td>\n",
       "      <td>8.1</td>\n",
       "    </tr>\n",
       "    <tr>\n",
       "      <th>99</th>\n",
       "      <td>100.       Uri: The Surgical Strike (2019)</td>\n",
       "      <td>8.1</td>\n",
       "    </tr>\n",
       "  </tbody>\n",
       "</table>\n",
       "<p>100 rows × 2 columns</p>\n",
       "</div>"
      ],
      "text/plain": [
       "                            Indian_movie_names Ratings\n",
       "0                 1.       Sardar Udham (2021)    8.6 \n",
       "1                      2.       Nayakan (1987)    8.5 \n",
       "2                   3.       Anbe Sivam (2003)    8.5 \n",
       "3            4.       Pariyerum Perumal (2018)    8.5 \n",
       "4            5.       C/o Kancharapalem (2018)    8.5 \n",
       "..                                         ...     ...\n",
       "95                       96.       Roja (1992)    8.1 \n",
       "96             97.       Dil Chahta Hai (2001)    8.1 \n",
       "97            98.       Rang De Basanti (2006)    8.1 \n",
       "98            99.       OMG: Oh My God! (2012)    8.1 \n",
       "99  100.       Uri: The Surgical Strike (2019)    8.1 \n",
       "\n",
       "[100 rows x 2 columns]"
      ]
     },
     "execution_count": 5,
     "metadata": {},
     "output_type": "execute_result"
    }
   ],
   "source": [
    "data.head(100)"
   ]
  },
  {
   "cell_type": "code",
   "execution_count": null,
   "id": "503f8f00",
   "metadata": {},
   "outputs": [],
   "source": []
  },
  {
   "cell_type": "code",
   "execution_count": null,
   "id": "ac4fa146",
   "metadata": {},
   "outputs": [],
   "source": []
  },
  {
   "cell_type": "code",
   "execution_count": null,
   "id": "3e3470a7",
   "metadata": {},
   "outputs": [],
   "source": []
  },
  {
   "cell_type": "code",
   "execution_count": null,
   "id": "ea52366e",
   "metadata": {},
   "outputs": [],
   "source": []
  },
  {
   "cell_type": "code",
   "execution_count": null,
   "id": "e8fd2bf6",
   "metadata": {},
   "outputs": [],
   "source": []
  }
 ],
 "metadata": {
  "kernelspec": {
   "display_name": "Python 3",
   "language": "python",
   "name": "python3"
  },
  "language_info": {
   "codemirror_mode": {
    "name": "ipython",
    "version": 3
   },
   "file_extension": ".py",
   "mimetype": "text/x-python",
   "name": "python",
   "nbconvert_exporter": "python",
   "pygments_lexer": "ipython3",
   "version": "3.8.8"
  }
 },
 "nbformat": 4,
 "nbformat_minor": 5
}
