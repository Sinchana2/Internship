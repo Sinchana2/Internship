{
 "cells": [
  {
   "cell_type": "code",
   "execution_count": 1,
   "id": "52282524",
   "metadata": {},
   "outputs": [],
   "source": [
    "from bs4 import BeautifulSoup\n",
    "import requests"
   ]
  },
  {
   "cell_type": "code",
   "execution_count": 2,
   "id": "7db849f3",
   "metadata": {},
   "outputs": [],
   "source": [
    "import pandas as pd\n",
    "data= pd.DataFrame()"
   ]
  },
  {
   "cell_type": "code",
   "execution_count": 3,
   "id": "3deefe66",
   "metadata": {},
   "outputs": [],
   "source": [
    "def ScrappedMovieList(URL):\n",
    "    page = requests.get(URL)\n",
    "    soup = BeautifulSoup(page.content)\n",
    "    scrapped_movies= soup.find_all('td',class_='titleColumn')\n",
    "    movies=[]\n",
    "    for movie in scrapped_movies:\n",
    "        movie=movie.get_text().replace('\\n',\" \")\n",
    "        movie=movie.strip(\" \")\n",
    "        movies.append(movie)\n",
    "    data['movie_names']= movies\n",
    "movies=ScrappedMovieList(\"https://www.imdb.com/chart/top/?ref_=nv_mv_250\")"
   ]
  },
  {
   "cell_type": "code",
   "execution_count": 4,
   "id": "210b149b",
   "metadata": {},
   "outputs": [],
   "source": [
    "def ScrappedRatingsList(URL):\n",
    "    page = requests.get(URL)\n",
    "    soup = BeautifulSoup(page.content)\n",
    "    scrapped_rating= soup.find_all('td',class_='ratingColumn imdbRating')\n",
    "    ratings=[]\n",
    "    for i in scrapped_rating:\n",
    "        i=i.get_text().replace('\\n',\" \")\n",
    "        ratings.append(i)\n",
    "    data['Ratings']= ratings\n",
    "ScrappedRatingsList(\"https://www.imdb.com/chart/top/?ref_=nv_mv_250\")"
   ]
  },
  {
   "cell_type": "code",
   "execution_count": 5,
   "id": "503f8f00",
   "metadata": {},
   "outputs": [
    {
     "data": {
      "text/html": [
       "<div>\n",
       "<style scoped>\n",
       "    .dataframe tbody tr th:only-of-type {\n",
       "        vertical-align: middle;\n",
       "    }\n",
       "\n",
       "    .dataframe tbody tr th {\n",
       "        vertical-align: top;\n",
       "    }\n",
       "\n",
       "    .dataframe thead th {\n",
       "        text-align: right;\n",
       "    }\n",
       "</style>\n",
       "<table border=\"1\" class=\"dataframe\">\n",
       "  <thead>\n",
       "    <tr style=\"text-align: right;\">\n",
       "      <th></th>\n",
       "      <th>movie_names</th>\n",
       "      <th>Ratings</th>\n",
       "    </tr>\n",
       "  </thead>\n",
       "  <tbody>\n",
       "    <tr>\n",
       "      <th>0</th>\n",
       "      <td>1.       The Shawshank Redemption (1994)</td>\n",
       "      <td>9.2</td>\n",
       "    </tr>\n",
       "    <tr>\n",
       "      <th>1</th>\n",
       "      <td>2.       The Godfather (1972)</td>\n",
       "      <td>9.1</td>\n",
       "    </tr>\n",
       "    <tr>\n",
       "      <th>2</th>\n",
       "      <td>3.       The Godfather: Part II (1974)</td>\n",
       "      <td>9.0</td>\n",
       "    </tr>\n",
       "    <tr>\n",
       "      <th>3</th>\n",
       "      <td>4.       The Dark Knight (2008)</td>\n",
       "      <td>9.0</td>\n",
       "    </tr>\n",
       "    <tr>\n",
       "      <th>4</th>\n",
       "      <td>5.       12 Angry Men (1957)</td>\n",
       "      <td>8.9</td>\n",
       "    </tr>\n",
       "    <tr>\n",
       "      <th>...</th>\n",
       "      <td>...</td>\n",
       "      <td>...</td>\n",
       "    </tr>\n",
       "    <tr>\n",
       "      <th>95</th>\n",
       "      <td>96.       Requiem for a Dream (2000)</td>\n",
       "      <td>8.3</td>\n",
       "    </tr>\n",
       "    <tr>\n",
       "      <th>96</th>\n",
       "      <td>97.       Singin' in the Rain (1952)</td>\n",
       "      <td>8.3</td>\n",
       "    </tr>\n",
       "    <tr>\n",
       "      <th>97</th>\n",
       "      <td>98.       North by Northwest (1959)</td>\n",
       "      <td>8.3</td>\n",
       "    </tr>\n",
       "    <tr>\n",
       "      <th>98</th>\n",
       "      <td>99.       Eternal Sunshine of the Spotless Min...</td>\n",
       "      <td>8.3</td>\n",
       "    </tr>\n",
       "    <tr>\n",
       "      <th>99</th>\n",
       "      <td>100.       Ladri di biciclette (1948)</td>\n",
       "      <td>8.3</td>\n",
       "    </tr>\n",
       "  </tbody>\n",
       "</table>\n",
       "<p>100 rows × 2 columns</p>\n",
       "</div>"
      ],
      "text/plain": [
       "                                          movie_names Ratings\n",
       "0            1.       The Shawshank Redemption (1994)    9.2 \n",
       "1                       2.       The Godfather (1972)    9.1 \n",
       "2              3.       The Godfather: Part II (1974)    9.0 \n",
       "3                     4.       The Dark Knight (2008)    9.0 \n",
       "4                        5.       12 Angry Men (1957)    8.9 \n",
       "..                                                ...     ...\n",
       "95               96.       Requiem for a Dream (2000)    8.3 \n",
       "96               97.       Singin' in the Rain (1952)    8.3 \n",
       "97                98.       North by Northwest (1959)    8.3 \n",
       "98  99.       Eternal Sunshine of the Spotless Min...    8.3 \n",
       "99              100.       Ladri di biciclette (1948)    8.3 \n",
       "\n",
       "[100 rows x 2 columns]"
      ]
     },
     "execution_count": 5,
     "metadata": {},
     "output_type": "execute_result"
    }
   ],
   "source": [
    "data.head(100)"
   ]
  },
  {
   "cell_type": "code",
   "execution_count": null,
   "id": "ac4fa146",
   "metadata": {},
   "outputs": [],
   "source": []
  },
  {
   "cell_type": "code",
   "execution_count": null,
   "id": "3e3470a7",
   "metadata": {},
   "outputs": [],
   "source": []
  },
  {
   "cell_type": "code",
   "execution_count": null,
   "id": "ea52366e",
   "metadata": {},
   "outputs": [],
   "source": []
  },
  {
   "cell_type": "code",
   "execution_count": null,
   "id": "e8fd2bf6",
   "metadata": {},
   "outputs": [],
   "source": []
  }
 ],
 "metadata": {
  "kernelspec": {
   "display_name": "Python 3",
   "language": "python",
   "name": "python3"
  },
  "language_info": {
   "codemirror_mode": {
    "name": "ipython",
    "version": 3
   },
   "file_extension": ".py",
   "mimetype": "text/x-python",
   "name": "python",
   "nbconvert_exporter": "python",
   "pygments_lexer": "ipython3",
   "version": "3.8.8"
  }
 },
 "nbformat": 4,
 "nbformat_minor": 5
}
