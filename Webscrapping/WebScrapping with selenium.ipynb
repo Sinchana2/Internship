{
 "cells": [
  {
   "cell_type": "markdown",
   "id": "f687519b",
   "metadata": {},
   "source": [
    "### Webscrapping Selenium Assignment 2"
   ]
  },
  {
   "cell_type": "code",
   "execution_count": 2,
   "id": "3aea82c0",
   "metadata": {},
   "outputs": [
    {
     "name": "stdout",
     "output_type": "stream",
     "text": [
      "Requirement already satisfied: selenium in c:\\users\\hp\\anaconda3\\lib\\site-packages (4.0.0)\n",
      "Requirement already satisfied: trio-websocket~=0.9 in c:\\users\\hp\\anaconda3\\lib\\site-packages (from selenium) (0.9.2)\n",
      "Requirement already satisfied: urllib3[secure]~=1.26 in c:\\users\\hp\\anaconda3\\lib\\site-packages (from selenium) (1.26.4)\n",
      "Requirement already satisfied: trio~=0.17 in c:\\users\\hp\\anaconda3\\lib\\site-packages (from selenium) (0.19.0)\n",
      "Requirement already satisfied: attrs>=19.2.0 in c:\\users\\hp\\anaconda3\\lib\\site-packages (from trio~=0.17->selenium) (20.3.0)\n",
      "Requirement already satisfied: idna in c:\\users\\hp\\anaconda3\\lib\\site-packages (from trio~=0.17->selenium) (2.10)\n",
      "Requirement already satisfied: cffi>=1.14 in c:\\users\\hp\\anaconda3\\lib\\site-packages (from trio~=0.17->selenium) (1.14.5)\n",
      "Requirement already satisfied: async-generator>=1.9 in c:\\users\\hp\\anaconda3\\lib\\site-packages (from trio~=0.17->selenium) (1.10)\n",
      "Requirement already satisfied: outcome in c:\\users\\hp\\anaconda3\\lib\\site-packages (from trio~=0.17->selenium) (1.1.0)\n",
      "Requirement already satisfied: sniffio in c:\\users\\hp\\anaconda3\\lib\\site-packages (from trio~=0.17->selenium) (1.2.0)\n",
      "Requirement already satisfied: sortedcontainers in c:\\users\\hp\\anaconda3\\lib\\site-packages (from trio~=0.17->selenium) (2.3.0)\n",
      "Requirement already satisfied: pycparser in c:\\users\\hp\\anaconda3\\lib\\site-packages (from cffi>=1.14->trio~=0.17->selenium) (2.20)\n",
      "Requirement already satisfied: wsproto>=0.14 in c:\\users\\hp\\anaconda3\\lib\\site-packages (from trio-websocket~=0.9->selenium) (1.0.0)\n",
      "Requirement already satisfied: cryptography>=1.3.4 in c:\\users\\hp\\anaconda3\\lib\\site-packages (from urllib3[secure]~=1.26->selenium) (3.4.7)\n",
      "Requirement already satisfied: certifi in c:\\users\\hp\\anaconda3\\lib\\site-packages (from urllib3[secure]~=1.26->selenium) (2020.12.5)\n",
      "Requirement already satisfied: pyOpenSSL>=0.14 in c:\\users\\hp\\anaconda3\\lib\\site-packages (from urllib3[secure]~=1.26->selenium) (20.0.1)\n",
      "Requirement already satisfied: six>=1.5.2 in c:\\users\\hp\\anaconda3\\lib\\site-packages (from pyOpenSSL>=0.14->urllib3[secure]~=1.26->selenium) (1.15.0)\n",
      "Requirement already satisfied: h11<1,>=0.9.0 in c:\\users\\hp\\anaconda3\\lib\\site-packages (from wsproto>=0.14->trio-websocket~=0.9->selenium) (0.9.0)\n"
     ]
    }
   ],
   "source": [
    "!pip install selenium\n",
    "import time"
   ]
  },
  {
   "cell_type": "code",
   "execution_count": 3,
   "id": "7db43c9b",
   "metadata": {},
   "outputs": [],
   "source": [
    "import selenium\n",
    "import pandas as pd\n",
    "import numpy as np\n",
    "from selenium import webdriver\n",
    "from selenium.webdriver.support.ui import Select"
   ]
  },
  {
   "cell_type": "markdown",
   "id": "6908c406",
   "metadata": {},
   "source": [
    "### 1. Naukri search of Data Analyst jobs"
   ]
  },
  {
   "cell_type": "code",
   "execution_count": 3,
   "id": "d01b37c7",
   "metadata": {},
   "outputs": [
    {
     "name": "stderr",
     "output_type": "stream",
     "text": [
      "<ipython-input-3-e33040cb7ecc>:1: DeprecationWarning: executable_path has been deprecated, please pass in a Service object\n",
      "  driver= webdriver.Chrome(\"C:/chromedriver.exe\")\n"
     ]
    }
   ],
   "source": [
    "driver= webdriver.Chrome(\"C:/chromedriver.exe\")"
   ]
  },
  {
   "cell_type": "code",
   "execution_count": 4,
   "id": "26aec321",
   "metadata": {},
   "outputs": [],
   "source": [
    "driver.get(\"https://www.naukri.com/data-analyst-jobs-in-bangalore-bengaluru?k=data%20analyst&l=bangalore%2Fbengaluru\")\n",
    "time.sleep(3)\n"
   ]
  },
  {
   "cell_type": "code",
   "execution_count": 5,
   "id": "14d0c2c6",
   "metadata": {},
   "outputs": [],
   "source": [
    "job_titles=[]\n",
    "job_location=[]\n",
    "companies=[]\n",
    "experience=[]\n",
    "Naukri=pd.DataFrame({})"
   ]
  },
  {
   "cell_type": "code",
   "execution_count": 6,
   "id": "149ceec1",
   "metadata": {},
   "outputs": [
    {
     "name": "stderr",
     "output_type": "stream",
     "text": [
      "<ipython-input-6-767967c5b0e2>:1: DeprecationWarning: find_elements_by_* commands are deprecated. Please use find_elements() instead\n",
      "  title_list= driver.find_elements_by_xpath(\"//a[@class='title fw500 ellipsis']\")\n"
     ]
    }
   ],
   "source": [
    "title_list= driver.find_elements_by_xpath(\"//a[@class='title fw500 ellipsis']\")\n",
    "for i in title_list:\n",
    "    i=i.text\n",
    "    job_titles.append(i)\n",
    "Naukri[\"Job_title\"]=job_titles[0:10]"
   ]
  },
  {
   "cell_type": "code",
   "execution_count": 7,
   "id": "0a3b6a64",
   "metadata": {},
   "outputs": [
    {
     "name": "stderr",
     "output_type": "stream",
     "text": [
      "<ipython-input-7-d3ce29b69102>:1: DeprecationWarning: find_elements_by_* commands are deprecated. Please use find_elements() instead\n",
      "  company_list=driver.find_elements_by_xpath(\"//a[@class='subTitle ellipsis fleft']\")\n"
     ]
    }
   ],
   "source": [
    "company_list=driver.find_elements_by_xpath(\"//a[@class='subTitle ellipsis fleft']\")\n",
    "for i in company_list:\n",
    "    comp=i.text\n",
    "    companies.append(comp)\n",
    "Naukri[\"Company_name\"]=companies[0:10]"
   ]
  },
  {
   "cell_type": "code",
   "execution_count": 8,
   "id": "79c17579",
   "metadata": {},
   "outputs": [
    {
     "name": "stderr",
     "output_type": "stream",
     "text": [
      "<ipython-input-8-fe51e80f4169>:1: DeprecationWarning: find_elements_by_* commands are deprecated. Please use find_elements() instead\n",
      "  location=driver.find_elements_by_xpath(\"//span[@title='Bangalore/Bengaluru ']\")\n"
     ]
    }
   ],
   "source": [
    "location=driver.find_elements_by_xpath(\"//span[@title='Bangalore/Bengaluru ']\")\n",
    "for i in location:\n",
    "    loc=i.text\n",
    "    job_location.append(loc)\n",
    "Naukri[\"Job Location\"]=job_location[0:10]\n"
   ]
  },
  {
   "cell_type": "code",
   "execution_count": 9,
   "id": "6c93b057",
   "metadata": {},
   "outputs": [
    {
     "data": {
      "text/html": [
       "<div>\n",
       "<style scoped>\n",
       "    .dataframe tbody tr th:only-of-type {\n",
       "        vertical-align: middle;\n",
       "    }\n",
       "\n",
       "    .dataframe tbody tr th {\n",
       "        vertical-align: top;\n",
       "    }\n",
       "\n",
       "    .dataframe thead th {\n",
       "        text-align: right;\n",
       "    }\n",
       "</style>\n",
       "<table border=\"1\" class=\"dataframe\">\n",
       "  <thead>\n",
       "    <tr style=\"text-align: right;\">\n",
       "      <th></th>\n",
       "      <th>Job_title</th>\n",
       "      <th>Company_name</th>\n",
       "      <th>Job Location</th>\n",
       "    </tr>\n",
       "  </thead>\n",
       "  <tbody>\n",
       "    <tr>\n",
       "      <th>0</th>\n",
       "      <td>Data Analyst</td>\n",
       "      <td>Rupeek Fintech Pvt Ltd</td>\n",
       "      <td>Bangalore/Bengaluru</td>\n",
       "    </tr>\n",
       "    <tr>\n",
       "      <th>1</th>\n",
       "      <td>Business Data Analyst(BigId) - Capco - Bangalore</td>\n",
       "      <td>Capco Technologies Pvt Ltd</td>\n",
       "      <td>Bangalore/Bengaluru</td>\n",
       "    </tr>\n",
       "    <tr>\n",
       "      <th>2</th>\n",
       "      <td>Data Analyst - Flipkart Analytics</td>\n",
       "      <td>Flipkart</td>\n",
       "      <td>Bangalore/Bengaluru</td>\n",
       "    </tr>\n",
       "    <tr>\n",
       "      <th>3</th>\n",
       "      <td>Senior Data Analyst</td>\n",
       "      <td>Pioneer Business Solutions</td>\n",
       "      <td>Bangalore/Bengaluru</td>\n",
       "    </tr>\n",
       "    <tr>\n",
       "      <th>4</th>\n",
       "      <td>Sr Data Analyst</td>\n",
       "      <td>Pioneer Business Solutions</td>\n",
       "      <td>Bangalore/Bengaluru</td>\n",
       "    </tr>\n",
       "    <tr>\n",
       "      <th>5</th>\n",
       "      <td>Business Data Analyst - Database Design/Mining</td>\n",
       "      <td>AugmatrixGo</td>\n",
       "      <td>Bangalore/Bengaluru</td>\n",
       "    </tr>\n",
       "    <tr>\n",
       "      <th>6</th>\n",
       "      <td>Opportunity For Business Data Analyst</td>\n",
       "      <td>Botree Software International Private Limited</td>\n",
       "      <td>Bangalore/Bengaluru</td>\n",
       "    </tr>\n",
       "    <tr>\n",
       "      <th>7</th>\n",
       "      <td>Urgent Openings For Data Analyst / Business An...</td>\n",
       "      <td>Flipkart</td>\n",
       "      <td>Bangalore/Bengaluru</td>\n",
       "    </tr>\n",
       "    <tr>\n",
       "      <th>8</th>\n",
       "      <td>Software Technologist II - Data Analyst</td>\n",
       "      <td>Philips India Limited</td>\n",
       "      <td>Bangalore/Bengaluru</td>\n",
       "    </tr>\n",
       "    <tr>\n",
       "      <th>9</th>\n",
       "      <td>Hiring For Data Analyst - Payment System Intel...</td>\n",
       "      <td>Genpact</td>\n",
       "      <td>Bangalore/Bengaluru</td>\n",
       "    </tr>\n",
       "  </tbody>\n",
       "</table>\n",
       "</div>"
      ],
      "text/plain": [
       "                                           Job_title  \\\n",
       "0                                       Data Analyst   \n",
       "1   Business Data Analyst(BigId) - Capco - Bangalore   \n",
       "2                  Data Analyst - Flipkart Analytics   \n",
       "3                                Senior Data Analyst   \n",
       "4                                    Sr Data Analyst   \n",
       "5     Business Data Analyst - Database Design/Mining   \n",
       "6              Opportunity For Business Data Analyst   \n",
       "7  Urgent Openings For Data Analyst / Business An...   \n",
       "8            Software Technologist II - Data Analyst   \n",
       "9  Hiring For Data Analyst - Payment System Intel...   \n",
       "\n",
       "                                    Company_name         Job Location  \n",
       "0                         Rupeek Fintech Pvt Ltd  Bangalore/Bengaluru  \n",
       "1                     Capco Technologies Pvt Ltd  Bangalore/Bengaluru  \n",
       "2                                       Flipkart  Bangalore/Bengaluru  \n",
       "3                     Pioneer Business Solutions  Bangalore/Bengaluru  \n",
       "4                     Pioneer Business Solutions  Bangalore/Bengaluru  \n",
       "5                                    AugmatrixGo  Bangalore/Bengaluru  \n",
       "6  Botree Software International Private Limited  Bangalore/Bengaluru  \n",
       "7                                       Flipkart  Bangalore/Bengaluru  \n",
       "8                          Philips India Limited  Bangalore/Bengaluru  \n",
       "9                                        Genpact  Bangalore/Bengaluru  "
      ]
     },
     "execution_count": 9,
     "metadata": {},
     "output_type": "execute_result"
    }
   ],
   "source": [
    "Naukri"
   ]
  },
  {
   "cell_type": "markdown",
   "id": "ddf22aa9",
   "metadata": {},
   "source": [
    "### 2. Naukri Data Scientist jobs"
   ]
  },
  {
   "cell_type": "code",
   "execution_count": 10,
   "id": "d94de42b",
   "metadata": {},
   "outputs": [
    {
     "name": "stderr",
     "output_type": "stream",
     "text": [
      "<ipython-input-10-e33040cb7ecc>:1: DeprecationWarning: executable_path has been deprecated, please pass in a Service object\n",
      "  driver= webdriver.Chrome(\"C:/chromedriver.exe\")\n"
     ]
    }
   ],
   "source": [
    "driver= webdriver.Chrome(\"C:/chromedriver.exe\")"
   ]
  },
  {
   "cell_type": "code",
   "execution_count": 11,
   "id": "c5bf8741",
   "metadata": {},
   "outputs": [],
   "source": [
    "driver.get(\"https://www.naukri.com/data-scientist-jobs-in-bangalore-bengaluru?k=data%20scientist&l=bangalore%2Fbengaluru\")"
   ]
  },
  {
   "cell_type": "code",
   "execution_count": 12,
   "id": "60a92ee9",
   "metadata": {},
   "outputs": [],
   "source": [
    "job_titles2=[]\n",
    "job_location2=[]\n",
    "companies2=[]\n",
    "experience2=[]\n",
    "Naukri_Data_Scientist=pd.DataFrame({})"
   ]
  },
  {
   "cell_type": "code",
   "execution_count": 14,
   "id": "5369e47a",
   "metadata": {},
   "outputs": [
    {
     "name": "stderr",
     "output_type": "stream",
     "text": [
      "<ipython-input-14-f6ab07221c5e>:1: DeprecationWarning: find_elements_by_* commands are deprecated. Please use find_elements() instead\n",
      "  title_list2= driver.find_elements_by_xpath(\"//a[@class='title fw500 ellipsis']\")\n"
     ]
    }
   ],
   "source": [
    "title_list2= driver.find_elements_by_xpath(\"//a[@class='title fw500 ellipsis']\")"
   ]
  },
  {
   "cell_type": "code",
   "execution_count": 15,
   "id": "5d9536db",
   "metadata": {},
   "outputs": [],
   "source": [
    "for i in title_list2:\n",
    "    i=i.text\n",
    "    job_titles2.append(i)\n",
    "Naukri_Data_Scientist[\"Job_title\"]=job_titles2[0:10]"
   ]
  },
  {
   "cell_type": "code",
   "execution_count": 16,
   "id": "bbb07d61",
   "metadata": {},
   "outputs": [
    {
     "name": "stderr",
     "output_type": "stream",
     "text": [
      "<ipython-input-16-de81dc15c34e>:1: DeprecationWarning: find_elements_by_* commands are deprecated. Please use find_elements() instead\n",
      "  company_list2=driver.find_elements_by_xpath(\"//a[@class='subTitle ellipsis fleft']\")\n"
     ]
    }
   ],
   "source": [
    "company_list2=driver.find_elements_by_xpath(\"//a[@class='subTitle ellipsis fleft']\")\n",
    "for i in company_list2:\n",
    "    comp2=i.text\n",
    "    companies2.append(comp2)\n",
    "Naukri_Data_Scientist[\"Company_name\"]=companies2[0:10]"
   ]
  },
  {
   "cell_type": "code",
   "execution_count": 17,
   "id": "0cc129cf",
   "metadata": {},
   "outputs": [
    {
     "name": "stderr",
     "output_type": "stream",
     "text": [
      "<ipython-input-17-bdffac07b26e>:1: DeprecationWarning: find_elements_by_* commands are deprecated. Please use find_elements() instead\n",
      "  location2=driver.find_elements_by_xpath(\"//span[@title='Bangalore/Bengaluru ']\")\n"
     ]
    }
   ],
   "source": [
    "location2=driver.find_elements_by_xpath(\"//span[@title='Bangalore/Bengaluru ']\")\n",
    "for i in location2:\n",
    "    loc2=i.text\n",
    "    job_location2.append(loc2)\n",
    "Naukri_Data_Scientist[\"Location\"]=job_location2[0:10]"
   ]
  },
  {
   "cell_type": "code",
   "execution_count": 18,
   "id": "6e6ffd84",
   "metadata": {},
   "outputs": [
    {
     "data": {
      "text/html": [
       "<div>\n",
       "<style scoped>\n",
       "    .dataframe tbody tr th:only-of-type {\n",
       "        vertical-align: middle;\n",
       "    }\n",
       "\n",
       "    .dataframe tbody tr th {\n",
       "        vertical-align: top;\n",
       "    }\n",
       "\n",
       "    .dataframe thead th {\n",
       "        text-align: right;\n",
       "    }\n",
       "</style>\n",
       "<table border=\"1\" class=\"dataframe\">\n",
       "  <thead>\n",
       "    <tr style=\"text-align: right;\">\n",
       "      <th></th>\n",
       "      <th>Job_title</th>\n",
       "      <th>Company_name</th>\n",
       "      <th>Location</th>\n",
       "    </tr>\n",
       "  </thead>\n",
       "  <tbody>\n",
       "    <tr>\n",
       "      <th>0</th>\n",
       "      <td>Data Scientist: Advanced Analytics</td>\n",
       "      <td>IBM India Pvt. Limited</td>\n",
       "      <td>Bangalore/Bengaluru</td>\n",
       "    </tr>\n",
       "    <tr>\n",
       "      <th>1</th>\n",
       "      <td>Data Scientist: Artificial Intelligence</td>\n",
       "      <td>IBM India Pvt. Limited</td>\n",
       "      <td>Bangalore/Bengaluru</td>\n",
       "    </tr>\n",
       "    <tr>\n",
       "      <th>2</th>\n",
       "      <td>Senior Data Scientist</td>\n",
       "      <td>Kwalee India Pvt Ltd.</td>\n",
       "      <td>Bangalore/Bengaluru</td>\n",
       "    </tr>\n",
       "    <tr>\n",
       "      <th>3</th>\n",
       "      <td>Senior Data Scientist - Computer Vision</td>\n",
       "      <td>GE Transportation</td>\n",
       "      <td>Bangalore/Bengaluru</td>\n",
       "    </tr>\n",
       "    <tr>\n",
       "      <th>4</th>\n",
       "      <td>Senior Data Scientist | Fortune 500 Supermarke...</td>\n",
       "      <td>TALENT500 TECH (INDIA) PRIVATE LIMITED</td>\n",
       "      <td>Bangalore/Bengaluru</td>\n",
       "    </tr>\n",
       "    <tr>\n",
       "      <th>5</th>\n",
       "      <td>Data Scientist /Senior Data Scientist</td>\n",
       "      <td>Dun &amp; Bradstreet</td>\n",
       "      <td>Bangalore/Bengaluru</td>\n",
       "    </tr>\n",
       "    <tr>\n",
       "      <th>6</th>\n",
       "      <td>Data Scientist</td>\n",
       "      <td>Visa</td>\n",
       "      <td>Bangalore/Bengaluru</td>\n",
       "    </tr>\n",
       "    <tr>\n",
       "      <th>7</th>\n",
       "      <td>Lead Data Scientist</td>\n",
       "      <td>Team4Progress</td>\n",
       "      <td>Bangalore/Bengaluru</td>\n",
       "    </tr>\n",
       "    <tr>\n",
       "      <th>8</th>\n",
       "      <td>Lead Data Scientist</td>\n",
       "      <td>TransOrg Solutions Services (P) Ltd.</td>\n",
       "      <td>Bangalore/Bengaluru</td>\n",
       "    </tr>\n",
       "    <tr>\n",
       "      <th>9</th>\n",
       "      <td>Senior Data Scientist / Tech Lead - SQL / Pyth...</td>\n",
       "      <td>Exploro Solutions</td>\n",
       "      <td>Bangalore/Bengaluru</td>\n",
       "    </tr>\n",
       "  </tbody>\n",
       "</table>\n",
       "</div>"
      ],
      "text/plain": [
       "                                           Job_title  \\\n",
       "0                 Data Scientist: Advanced Analytics   \n",
       "1            Data Scientist: Artificial Intelligence   \n",
       "2                              Senior Data Scientist   \n",
       "3            Senior Data Scientist - Computer Vision   \n",
       "4  Senior Data Scientist | Fortune 500 Supermarke...   \n",
       "5              Data Scientist /Senior Data Scientist   \n",
       "6                                     Data Scientist   \n",
       "7                                Lead Data Scientist   \n",
       "8                                Lead Data Scientist   \n",
       "9  Senior Data Scientist / Tech Lead - SQL / Pyth...   \n",
       "\n",
       "                             Company_name             Location  \n",
       "0                  IBM India Pvt. Limited  Bangalore/Bengaluru  \n",
       "1                  IBM India Pvt. Limited  Bangalore/Bengaluru  \n",
       "2                   Kwalee India Pvt Ltd.  Bangalore/Bengaluru  \n",
       "3                       GE Transportation  Bangalore/Bengaluru  \n",
       "4  TALENT500 TECH (INDIA) PRIVATE LIMITED  Bangalore/Bengaluru  \n",
       "5                        Dun & Bradstreet  Bangalore/Bengaluru  \n",
       "6                                    Visa  Bangalore/Bengaluru  \n",
       "7                           Team4Progress  Bangalore/Bengaluru  \n",
       "8    TransOrg Solutions Services (P) Ltd.  Bangalore/Bengaluru  \n",
       "9                       Exploro Solutions  Bangalore/Bengaluru  "
      ]
     },
     "execution_count": 18,
     "metadata": {},
     "output_type": "execute_result"
    }
   ],
   "source": [
    "Naukri_Data_Scientist"
   ]
  },
  {
   "cell_type": "markdown",
   "id": "2fd0fb85",
   "metadata": {},
   "source": [
    "### 3.Data Scientist using filters"
   ]
  },
  {
   "cell_type": "code",
   "execution_count": 19,
   "id": "47b8141d",
   "metadata": {},
   "outputs": [
    {
     "name": "stderr",
     "output_type": "stream",
     "text": [
      "<ipython-input-19-5c8983672f95>:1: DeprecationWarning: executable_path has been deprecated, please pass in a Service object\n",
      "  driver= webdriver.Chrome(\"C:/chromedriver.exe\")\n"
     ]
    }
   ],
   "source": [
    "driver= webdriver.Chrome(\"C:/chromedriver.exe\")\n",
    "driver.get(\"https://www.naukri.com/data-scientist-jobs-in-bangalore-bengaluru?k=data%20scientist&l=bangalore%2Fbengaluru\")"
   ]
  },
  {
   "cell_type": "code",
   "execution_count": 20,
   "id": "dc0f5006",
   "metadata": {},
   "outputs": [
    {
     "name": "stderr",
     "output_type": "stream",
     "text": [
      "<ipython-input-20-e1117f7f49c1>:1: DeprecationWarning: find_element_by_* commands are deprecated. Please use find_element() instead\n",
      "  w=driver.find_element_by_xpath(\"//div[@class='filterOptns']//span[@class='fleft lH20']\")\n",
      "<ipython-input-20-e1117f7f49c1>:4: DeprecationWarning: find_elements_by_* commands are deprecated. Please use find_elements() instead\n",
      "  y=driver.find_elements_by_xpath(\"//div[@class='mt-8 chckBoxCont']//span[contains(text(),'Delhi / NCR')]\")\n",
      "<ipython-input-20-e1117f7f49c1>:8: DeprecationWarning: find_element_by_* commands are deprecated. Please use find_element() instead\n",
      "  z=driver.find_element_by_xpath(\"//div[@class='filterOptns']//span[@title='3-6 Lakhs']\")\n"
     ]
    }
   ],
   "source": [
    "w=driver.find_element_by_xpath(\"//div[@class='filterOptns']//span[@class='fleft lH20']\")\n",
    "w.click()\n",
    "time.sleep(2)\n",
    "y=driver.find_elements_by_xpath(\"//div[@class='mt-8 chckBoxCont']//span[contains(text(),'Delhi / NCR')]\")\n",
    "time.sleep(2)\n",
    "y[0].click()\n",
    "time.sleep(2)\n",
    "z=driver.find_element_by_xpath(\"//div[@class='filterOptns']//span[@title='3-6 Lakhs']\")\n",
    "z.click()"
   ]
  },
  {
   "cell_type": "code",
   "execution_count": 21,
   "id": "6ccb2d61",
   "metadata": {},
   "outputs": [
    {
     "name": "stderr",
     "output_type": "stream",
     "text": [
      "<ipython-input-21-6ede7c849dbe>:6: DeprecationWarning: find_elements_by_* commands are deprecated. Please use find_elements() instead\n",
      "  title_list3= driver.find_elements_by_xpath(\"//a[@class='title fw500 ellipsis']\")\n"
     ]
    }
   ],
   "source": [
    "job_titles3=[]\n",
    "job_location3=[]\n",
    "companies3=[]\n",
    "experience3=[]\n",
    "Naukri_Data_Scientist_Noida=pd.DataFrame({})\n",
    "title_list3= driver.find_elements_by_xpath(\"//a[@class='title fw500 ellipsis']\")\n",
    "for i in title_list3:\n",
    "    i=i.text\n",
    "    job_titles3.append(i)\n",
    "Naukri_Data_Scientist_Noida[\"Job_title\"]=job_titles3[0:10]"
   ]
  },
  {
   "cell_type": "code",
   "execution_count": 22,
   "id": "0a8c7850",
   "metadata": {},
   "outputs": [
    {
     "name": "stderr",
     "output_type": "stream",
     "text": [
      "<ipython-input-22-66a8fff65a2a>:1: DeprecationWarning: find_elements_by_* commands are deprecated. Please use find_elements() instead\n",
      "  company_list3=driver.find_elements_by_xpath(\"//a[@class='subTitle ellipsis fleft']\")\n"
     ]
    }
   ],
   "source": [
    "company_list3=driver.find_elements_by_xpath(\"//a[@class='subTitle ellipsis fleft']\")\n",
    "for i in company_list3:\n",
    "    comp3=i.text\n",
    "    companies3.append(comp3)\n",
    "Naukri_Data_Scientist_Noida[\"Company_name\"]=companies3[0:10]"
   ]
  },
  {
   "cell_type": "code",
   "execution_count": 24,
   "id": "1c43080e",
   "metadata": {},
   "outputs": [
    {
     "name": "stderr",
     "output_type": "stream",
     "text": [
      "<ipython-input-24-44a7aee712d6>:1: DeprecationWarning: find_elements_by_* commands are deprecated. Please use find_elements() instead\n",
      "  location3=driver.find_elements_by_xpath(\"//li[@class='fleft grey-text br2 placeHolderLi location']\")\n"
     ]
    }
   ],
   "source": [
    "location3=driver.find_elements_by_xpath(\"//li[@class='fleft grey-text br2 placeHolderLi location']\")\n",
    "for i in location3:\n",
    "    loc3=i.text\n",
    "    job_location3.append(loc3)\n",
    "Naukri_Data_Scientist_Noida[\"Location\"]=job_location3[20:30]\n",
    "\n"
   ]
  },
  {
   "cell_type": "code",
   "execution_count": 25,
   "id": "c637a46a",
   "metadata": {},
   "outputs": [
    {
     "name": "stderr",
     "output_type": "stream",
     "text": [
      "<ipython-input-25-f423f21a3b11>:1: DeprecationWarning: find_elements_by_* commands are deprecated. Please use find_elements() instead\n",
      "  experience=driver.find_elements_by_xpath(\"//li[@class='fleft grey-text br2 placeHolderLi experience']\")\n"
     ]
    }
   ],
   "source": [
    "experience=driver.find_elements_by_xpath(\"//li[@class='fleft grey-text br2 placeHolderLi experience']\")\n",
    "for i in experience:\n",
    "    i=i.text\n",
    "    experience3.append(i)\n",
    "Naukri_Data_Scientist_Noida[\"Experience\"]=experience3[0:10]"
   ]
  },
  {
   "cell_type": "code",
   "execution_count": 26,
   "id": "fa1df15c",
   "metadata": {},
   "outputs": [
    {
     "data": {
      "text/html": [
       "<div>\n",
       "<style scoped>\n",
       "    .dataframe tbody tr th:only-of-type {\n",
       "        vertical-align: middle;\n",
       "    }\n",
       "\n",
       "    .dataframe tbody tr th {\n",
       "        vertical-align: top;\n",
       "    }\n",
       "\n",
       "    .dataframe thead th {\n",
       "        text-align: right;\n",
       "    }\n",
       "</style>\n",
       "<table border=\"1\" class=\"dataframe\">\n",
       "  <thead>\n",
       "    <tr style=\"text-align: right;\">\n",
       "      <th></th>\n",
       "      <th>Job_title</th>\n",
       "      <th>Company_name</th>\n",
       "      <th>Location</th>\n",
       "      <th>Experience</th>\n",
       "    </tr>\n",
       "  </thead>\n",
       "  <tbody>\n",
       "    <tr>\n",
       "      <th>0</th>\n",
       "      <td>Data Scientist</td>\n",
       "      <td>ThinkBumblebee Analytics Pvt. Ltd.</td>\n",
       "      <td>Pune, Bangalore/Bengaluru, Delhi / NCR\\n(WFH d...</td>\n",
       "      <td>2-6 Yrs</td>\n",
       "    </tr>\n",
       "    <tr>\n",
       "      <th>1</th>\n",
       "      <td>Data Scientist</td>\n",
       "      <td>Think i</td>\n",
       "      <td>Kochi/Cochin, Kolkata, Hyderabad/Secunderabad,...</td>\n",
       "      <td>0-2 Yrs</td>\n",
       "    </tr>\n",
       "    <tr>\n",
       "      <th>2</th>\n",
       "      <td>Data Scientist</td>\n",
       "      <td>Fractal Analytics</td>\n",
       "      <td>Mumbai, Gurgaon/Gurugram, Bangalore/Bengaluru</td>\n",
       "      <td>3-7 Yrs</td>\n",
       "    </tr>\n",
       "    <tr>\n",
       "      <th>3</th>\n",
       "      <td>Academic Counsellor - Data Scientist</td>\n",
       "      <td>GreatLearning</td>\n",
       "      <td>Gurgaon/Gurugram, Bangalore/Bengaluru</td>\n",
       "      <td>1-4 Yrs</td>\n",
       "    </tr>\n",
       "    <tr>\n",
       "      <th>4</th>\n",
       "      <td>Data Scientist</td>\n",
       "      <td>BlackBuck</td>\n",
       "      <td>Gurgaon, Bengaluru</td>\n",
       "      <td>3-7 Yrs</td>\n",
       "    </tr>\n",
       "    <tr>\n",
       "      <th>5</th>\n",
       "      <td>Data Scientist</td>\n",
       "      <td>Country Veggie</td>\n",
       "      <td>Bharuch, Jaipur, Bhopal, Mumbai, Jhansi, Nagpu...</td>\n",
       "      <td>1-3 Yrs</td>\n",
       "    </tr>\n",
       "    <tr>\n",
       "      <th>6</th>\n",
       "      <td>Immediate requirement For Data Scientist</td>\n",
       "      <td>CALIBEHR BUSINESS SUPPORT SERVICES PRIVATE LIM...</td>\n",
       "      <td>Mumbai, Hyderabad/Secunderabad, Pune, Chennai,...</td>\n",
       "      <td>2-7 Yrs</td>\n",
       "    </tr>\n",
       "    <tr>\n",
       "      <th>7</th>\n",
       "      <td>Data Scientist</td>\n",
       "      <td>EXL Service</td>\n",
       "      <td>Gurgaon/Gurugram, Bangalore/Bengaluru</td>\n",
       "      <td>3-5 Yrs</td>\n",
       "    </tr>\n",
       "    <tr>\n",
       "      <th>8</th>\n",
       "      <td>Data Scientist</td>\n",
       "      <td>Urban Company</td>\n",
       "      <td>Gurgaon/Gurugram, Bangalore/Bengaluru</td>\n",
       "      <td>1-3 Yrs</td>\n",
       "    </tr>\n",
       "    <tr>\n",
       "      <th>9</th>\n",
       "      <td>Data Scientist</td>\n",
       "      <td>Hexagon Geosystems Services India P.Ltd.</td>\n",
       "      <td>Gurgaon/Gurugram, Bangalore/Bengaluru</td>\n",
       "      <td>6-11 Yrs</td>\n",
       "    </tr>\n",
       "  </tbody>\n",
       "</table>\n",
       "</div>"
      ],
      "text/plain": [
       "                                  Job_title  \\\n",
       "0                            Data Scientist   \n",
       "1                            Data Scientist   \n",
       "2                            Data Scientist   \n",
       "3      Academic Counsellor - Data Scientist   \n",
       "4                            Data Scientist   \n",
       "5                            Data Scientist   \n",
       "6  Immediate requirement For Data Scientist   \n",
       "7                            Data Scientist   \n",
       "8                            Data Scientist   \n",
       "9                            Data Scientist   \n",
       "\n",
       "                                        Company_name  \\\n",
       "0                 ThinkBumblebee Analytics Pvt. Ltd.   \n",
       "1                                            Think i   \n",
       "2                                  Fractal Analytics   \n",
       "3                                      GreatLearning   \n",
       "4                                          BlackBuck   \n",
       "5                                     Country Veggie   \n",
       "6  CALIBEHR BUSINESS SUPPORT SERVICES PRIVATE LIM...   \n",
       "7                                        EXL Service   \n",
       "8                                      Urban Company   \n",
       "9           Hexagon Geosystems Services India P.Ltd.   \n",
       "\n",
       "                                            Location Experience  \n",
       "0  Pune, Bangalore/Bengaluru, Delhi / NCR\\n(WFH d...    2-6 Yrs  \n",
       "1  Kochi/Cochin, Kolkata, Hyderabad/Secunderabad,...    0-2 Yrs  \n",
       "2      Mumbai, Gurgaon/Gurugram, Bangalore/Bengaluru    3-7 Yrs  \n",
       "3              Gurgaon/Gurugram, Bangalore/Bengaluru    1-4 Yrs  \n",
       "4                                 Gurgaon, Bengaluru    3-7 Yrs  \n",
       "5  Bharuch, Jaipur, Bhopal, Mumbai, Jhansi, Nagpu...    1-3 Yrs  \n",
       "6  Mumbai, Hyderabad/Secunderabad, Pune, Chennai,...    2-7 Yrs  \n",
       "7              Gurgaon/Gurugram, Bangalore/Bengaluru    3-5 Yrs  \n",
       "8              Gurgaon/Gurugram, Bangalore/Bengaluru    1-3 Yrs  \n",
       "9              Gurgaon/Gurugram, Bangalore/Bengaluru   6-11 Yrs  "
      ]
     },
     "execution_count": 26,
     "metadata": {},
     "output_type": "execute_result"
    }
   ],
   "source": [
    "Naukri_Data_Scientist_Noida"
   ]
  },
  {
   "cell_type": "markdown",
   "id": "b5df74eb",
   "metadata": {},
   "source": [
    "### 4). Scrape data of first 100 sunglasses listings on flipkart.com. You have to scrape four attributes: \n",
    "1. Brand \n",
    "2. Product Description \n",
    "3. Price"
   ]
  },
  {
   "cell_type": "code",
   "execution_count": 27,
   "id": "c40fc1b4",
   "metadata": {},
   "outputs": [
    {
     "name": "stderr",
     "output_type": "stream",
     "text": [
      "<ipython-input-27-e33040cb7ecc>:1: DeprecationWarning: executable_path has been deprecated, please pass in a Service object\n",
      "  driver= webdriver.Chrome(\"C:/chromedriver.exe\")\n"
     ]
    }
   ],
   "source": [
    "driver= webdriver.Chrome(\"C:/chromedriver.exe\")"
   ]
  },
  {
   "cell_type": "code",
   "execution_count": 28,
   "id": "b962616d",
   "metadata": {},
   "outputs": [],
   "source": [
    "driver.get(\"https://www.flipkart.com/\")"
   ]
  },
  {
   "cell_type": "code",
   "execution_count": 29,
   "id": "492441ad",
   "metadata": {},
   "outputs": [
    {
     "name": "stderr",
     "output_type": "stream",
     "text": [
      "<ipython-input-29-9aa26aa6b4b6>:1: DeprecationWarning: find_element_by_* commands are deprecated. Please use find_element() instead\n",
      "  search_button=driver.find_element_by_xpath(\"//input[@class='_3704LK']\")\n"
     ]
    }
   ],
   "source": [
    "search_button=driver.find_element_by_xpath(\"//input[@class='_3704LK']\")"
   ]
  },
  {
   "cell_type": "code",
   "execution_count": 30,
   "id": "af5d41b0",
   "metadata": {},
   "outputs": [],
   "source": [
    "search_button.send_keys(\"sunglasses\")"
   ]
  },
  {
   "cell_type": "code",
   "execution_count": 31,
   "id": "9c0a189e",
   "metadata": {},
   "outputs": [
    {
     "name": "stderr",
     "output_type": "stream",
     "text": [
      "<ipython-input-31-d4172fb310ed>:1: DeprecationWarning: find_element_by_* commands are deprecated. Please use find_element() instead\n",
      "  search=driver.find_element_by_xpath(\"//button[@class='L0Z3Pu']\")\n"
     ]
    }
   ],
   "source": [
    "search=driver.find_element_by_xpath(\"//button[@class='L0Z3Pu']\")"
   ]
  },
  {
   "cell_type": "code",
   "execution_count": 32,
   "id": "0a9a3da3",
   "metadata": {},
   "outputs": [],
   "source": [
    "search.click()"
   ]
  },
  {
   "cell_type": "code",
   "execution_count": 33,
   "id": "67bb31fa",
   "metadata": {},
   "outputs": [],
   "source": [
    "\n",
    "df=pd.DataFrame({})"
   ]
  },
  {
   "cell_type": "code",
   "execution_count": 34,
   "id": "01af5cb2",
   "metadata": {},
   "outputs": [
    {
     "name": "stderr",
     "output_type": "stream",
     "text": [
      "<ipython-input-34-f51bb4b30d1d>:3: DeprecationWarning: find_elements_by_* commands are deprecated. Please use find_elements() instead\n",
      "  sunglass=driver.find_elements_by_xpath(xpath)\n",
      "<ipython-input-34-f51bb4b30d1d>:12: DeprecationWarning: find_elements_by_* commands are deprecated. Please use find_elements() instead\n",
      "  sunglass=driver.find_elements_by_xpath(xpath)\n",
      "<ipython-input-34-f51bb4b30d1d>:21: DeprecationWarning: find_elements_by_* commands are deprecated. Please use find_elements() instead\n",
      "  sunglass=driver.find_elements_by_xpath(xpath)\n",
      "<ipython-input-34-f51bb4b30d1d>:30: DeprecationWarning: find_elements_by_* commands are deprecated. Please use find_elements() instead\n",
      "  sunglass=driver.find_elements_by_xpath(xpath)\n",
      "<ipython-input-34-f51bb4b30d1d>:39: DeprecationWarning: find_element_by_* commands are deprecated. Please use find_element() instead\n",
      "  first_next=driver.find_element_by_xpath(\"//a[@class='_1LKTO3']\")\n"
     ]
    }
   ],
   "source": [
    "def sunglass_name(xpath):\n",
    "    sun=[]\n",
    "    sunglass=driver.find_elements_by_xpath(xpath)\n",
    "    for i in sunglass:\n",
    "        attribute=i.text\n",
    "        sun.append(attribute)\n",
    "\n",
    "    return sun[0:]\n",
    "\n",
    "def sunglass_type(xpath):\n",
    "    sun=[]\n",
    "    sunglass=driver.find_elements_by_xpath(xpath)\n",
    "    for i in sunglass:\n",
    "        attribute=i.text\n",
    "        sun.append(attribute)\n",
    " \n",
    "    return sun[0:]\n",
    "\n",
    "def sunglass_price(xpath):\n",
    "    sun=[]\n",
    "    sunglass=driver.find_elements_by_xpath(xpath)\n",
    "    for i in sunglass:\n",
    "        attribute=i.text\n",
    "        sun.append(attribute)\n",
    "\n",
    "    return sun[0:]\n",
    "\n",
    "def sunglass_discount(xpath):\n",
    "    sun=[]\n",
    "    sunglass=driver.find_elements_by_xpath(xpath)\n",
    "    for i in sunglass:\n",
    "        attribute=i.text\n",
    "        sun.append(attribute)\n",
    "    return sun[0:]\n",
    "first_names=sunglass_name(\"//div[@class='_2WkVRV']\")\n",
    "first_desc=sunglass_type(\"//a[@class='IRpwTa']\")\n",
    "first_price=sunglass_price(\"//div[@class='_30jeq3']\")\n",
    "first_discount=sunglass_discount(\"//div[@class='_3Ay6Sb']/span\")\n",
    "first_next=driver.find_element_by_xpath(\"//a[@class='_1LKTO3']\")\n",
    "\n"
   ]
  },
  {
   "cell_type": "code",
   "execution_count": 35,
   "id": "2b82c7f3",
   "metadata": {},
   "outputs": [
    {
     "name": "stderr",
     "output_type": "stream",
     "text": [
      "<ipython-input-34-f51bb4b30d1d>:3: DeprecationWarning: find_elements_by_* commands are deprecated. Please use find_elements() instead\n",
      "  sunglass=driver.find_elements_by_xpath(xpath)\n",
      "<ipython-input-34-f51bb4b30d1d>:12: DeprecationWarning: find_elements_by_* commands are deprecated. Please use find_elements() instead\n",
      "  sunglass=driver.find_elements_by_xpath(xpath)\n",
      "<ipython-input-34-f51bb4b30d1d>:21: DeprecationWarning: find_elements_by_* commands are deprecated. Please use find_elements() instead\n",
      "  sunglass=driver.find_elements_by_xpath(xpath)\n",
      "<ipython-input-34-f51bb4b30d1d>:30: DeprecationWarning: find_elements_by_* commands are deprecated. Please use find_elements() instead\n",
      "  sunglass=driver.find_elements_by_xpath(xpath)\n",
      "<ipython-input-35-0849c7c0a3b5>:7: DeprecationWarning: find_element_by_* commands are deprecated. Please use find_element() instead\n",
      "  second_next=driver.find_element_by_xpath(\"//a[@class='_1LKTO3']\")\n"
     ]
    }
   ],
   "source": [
    "first_next.click()\n",
    "time.sleep(5)\n",
    "second_names=sunglass_name(\"//div[@class='_2WkVRV']\")\n",
    "second_type=sunglass_type(\"//a[@class='IRpwTa']\")\n",
    "second_price=sunglass_price(\"//div[@class='_30jeq3']\")\n",
    "second_discount=sunglass_discount(\"//div[@class='_3Ay6Sb']/span\")\n",
    "second_next=driver.find_element_by_xpath(\"//a[@class='_1LKTO3']\")"
   ]
  },
  {
   "cell_type": "code",
   "execution_count": 36,
   "id": "e3bc1b5b",
   "metadata": {},
   "outputs": [
    {
     "name": "stderr",
     "output_type": "stream",
     "text": [
      "<ipython-input-34-f51bb4b30d1d>:3: DeprecationWarning: find_elements_by_* commands are deprecated. Please use find_elements() instead\n",
      "  sunglass=driver.find_elements_by_xpath(xpath)\n",
      "<ipython-input-34-f51bb4b30d1d>:12: DeprecationWarning: find_elements_by_* commands are deprecated. Please use find_elements() instead\n",
      "  sunglass=driver.find_elements_by_xpath(xpath)\n",
      "<ipython-input-34-f51bb4b30d1d>:21: DeprecationWarning: find_elements_by_* commands are deprecated. Please use find_elements() instead\n",
      "  sunglass=driver.find_elements_by_xpath(xpath)\n",
      "<ipython-input-34-f51bb4b30d1d>:30: DeprecationWarning: find_elements_by_* commands are deprecated. Please use find_elements() instead\n",
      "  sunglass=driver.find_elements_by_xpath(xpath)\n"
     ]
    }
   ],
   "source": [
    "second_next.click()\n",
    "time.sleep(5)\n",
    "third_names=sunglass_name(\"//div[@class='_2WkVRV']\")\n",
    "third_desc=sunglass_type(\"//a[@class='IRpwTa']\")\n",
    "third_price=sunglass_price(\"//div[@class='_30jeq3']\")\n",
    "third_discount=sunglass_discount(\"//div[@class='_3Ay6Sb']/span\")\n"
   ]
  },
  {
   "cell_type": "code",
   "execution_count": 37,
   "id": "4c2a7c09",
   "metadata": {},
   "outputs": [],
   "source": [
    "names=first_names+second_names+third_names\n",
    "description=first_desc+second_type+third_desc\n",
    "price=first_price+second_price+third_price\n",
    "discount=first_discount+second_discount+third_discount"
   ]
  },
  {
   "cell_type": "code",
   "execution_count": 38,
   "id": "bf329d10",
   "metadata": {},
   "outputs": [],
   "source": [
    "df[\"Sunglass_names\"]=names\n",
    "df[\"Sunglass_description\"]=description\n",
    "df[\"price\"]=price\n",
    "df[\"Discount\"]=discount"
   ]
  },
  {
   "cell_type": "code",
   "execution_count": 39,
   "id": "824345ef",
   "metadata": {},
   "outputs": [
    {
     "data": {
      "text/html": [
       "<div>\n",
       "<style scoped>\n",
       "    .dataframe tbody tr th:only-of-type {\n",
       "        vertical-align: middle;\n",
       "    }\n",
       "\n",
       "    .dataframe tbody tr th {\n",
       "        vertical-align: top;\n",
       "    }\n",
       "\n",
       "    .dataframe thead th {\n",
       "        text-align: right;\n",
       "    }\n",
       "</style>\n",
       "<table border=\"1\" class=\"dataframe\">\n",
       "  <thead>\n",
       "    <tr style=\"text-align: right;\">\n",
       "      <th></th>\n",
       "      <th>Sunglass_names</th>\n",
       "      <th>Sunglass_description</th>\n",
       "      <th>price</th>\n",
       "      <th>Discount</th>\n",
       "    </tr>\n",
       "  </thead>\n",
       "  <tbody>\n",
       "    <tr>\n",
       "      <th>0</th>\n",
       "      <td>ROZZETTA CRAFT</td>\n",
       "      <td>UV Protection, Gradient Round Sunglasses (Free...</td>\n",
       "      <td>₹336</td>\n",
       "      <td>83% off</td>\n",
       "    </tr>\n",
       "    <tr>\n",
       "      <th>1</th>\n",
       "      <td>PIRASO</td>\n",
       "      <td>UV Protection Rectangular, Over-sized Sunglass...</td>\n",
       "      <td>₹349</td>\n",
       "      <td>88% off</td>\n",
       "    </tr>\n",
       "    <tr>\n",
       "      <th>2</th>\n",
       "      <td>Fastrack</td>\n",
       "      <td>UV Protection Rectangular Sunglasses (Free Size)</td>\n",
       "      <td>₹513</td>\n",
       "      <td>35% off</td>\n",
       "    </tr>\n",
       "    <tr>\n",
       "      <th>3</th>\n",
       "      <td>SRPM</td>\n",
       "      <td>UV Protection Wayfarer Sunglasses (56)</td>\n",
       "      <td>₹188</td>\n",
       "      <td>85% off</td>\n",
       "    </tr>\n",
       "    <tr>\n",
       "      <th>4</th>\n",
       "      <td>Elligator</td>\n",
       "      <td>UV Protection Round Sunglasses (54)</td>\n",
       "      <td>₹248</td>\n",
       "      <td>90% off</td>\n",
       "    </tr>\n",
       "    <tr>\n",
       "      <th>...</th>\n",
       "      <td>...</td>\n",
       "      <td>...</td>\n",
       "      <td>...</td>\n",
       "      <td>...</td>\n",
       "    </tr>\n",
       "    <tr>\n",
       "      <th>95</th>\n",
       "      <td>PIRASO</td>\n",
       "      <td>UV Protection Wayfarer Sunglasses (32)</td>\n",
       "      <td>₹187</td>\n",
       "      <td>88% off</td>\n",
       "    </tr>\n",
       "    <tr>\n",
       "      <th>96</th>\n",
       "      <td>kingsunglasses</td>\n",
       "      <td>Mirrored, UV Protection Wayfarer Sunglasses (F...</td>\n",
       "      <td>₹259</td>\n",
       "      <td>87% off</td>\n",
       "    </tr>\n",
       "    <tr>\n",
       "      <th>97</th>\n",
       "      <td>NuVew</td>\n",
       "      <td>UV Protection, Night Vision, Riding Glasses Sp...</td>\n",
       "      <td>₹270</td>\n",
       "      <td>65% off</td>\n",
       "    </tr>\n",
       "    <tr>\n",
       "      <th>98</th>\n",
       "      <td>GANSTA</td>\n",
       "      <td>UV Protection, Riding Glasses Wayfarer Sunglas...</td>\n",
       "      <td>₹198</td>\n",
       "      <td>88% off</td>\n",
       "    </tr>\n",
       "    <tr>\n",
       "      <th>99</th>\n",
       "      <td>PIRASO</td>\n",
       "      <td>UV Protection Butterfly Sunglasses (60)</td>\n",
       "      <td>₹449</td>\n",
       "      <td>82% off</td>\n",
       "    </tr>\n",
       "  </tbody>\n",
       "</table>\n",
       "<p>100 rows × 4 columns</p>\n",
       "</div>"
      ],
      "text/plain": [
       "    Sunglass_names                               Sunglass_description price  \\\n",
       "0   ROZZETTA CRAFT  UV Protection, Gradient Round Sunglasses (Free...  ₹336   \n",
       "1           PIRASO  UV Protection Rectangular, Over-sized Sunglass...  ₹349   \n",
       "2         Fastrack   UV Protection Rectangular Sunglasses (Free Size)  ₹513   \n",
       "3             SRPM             UV Protection Wayfarer Sunglasses (56)  ₹188   \n",
       "4        Elligator                UV Protection Round Sunglasses (54)  ₹248   \n",
       "..             ...                                                ...   ...   \n",
       "95          PIRASO             UV Protection Wayfarer Sunglasses (32)  ₹187   \n",
       "96  kingsunglasses  Mirrored, UV Protection Wayfarer Sunglasses (F...  ₹259   \n",
       "97           NuVew  UV Protection, Night Vision, Riding Glasses Sp...  ₹270   \n",
       "98          GANSTA  UV Protection, Riding Glasses Wayfarer Sunglas...  ₹198   \n",
       "99          PIRASO            UV Protection Butterfly Sunglasses (60)  ₹449   \n",
       "\n",
       "   Discount  \n",
       "0   83% off  \n",
       "1   88% off  \n",
       "2   35% off  \n",
       "3   85% off  \n",
       "4   90% off  \n",
       "..      ...  \n",
       "95  88% off  \n",
       "96  87% off  \n",
       "97  65% off  \n",
       "98  88% off  \n",
       "99  82% off  \n",
       "\n",
       "[100 rows x 4 columns]"
      ]
     },
     "execution_count": 39,
     "metadata": {},
     "output_type": "execute_result"
    }
   ],
   "source": [
    "df[0:100]"
   ]
  },
  {
   "cell_type": "markdown",
   "id": "863c90f4",
   "metadata": {},
   "source": [
    "### 5. Flipkart iphone webscrapping"
   ]
  },
  {
   "cell_type": "code",
   "execution_count": 40,
   "id": "6f8f51e7",
   "metadata": {},
   "outputs": [
    {
     "name": "stderr",
     "output_type": "stream",
     "text": [
      "<ipython-input-40-efc22085c42a>:1: DeprecationWarning: executable_path has been deprecated, please pass in a Service object\n",
      "  driver= webdriver.Chrome(\"C:/chromedriver.exe\")\n"
     ]
    }
   ],
   "source": [
    "driver= webdriver.Chrome(\"C:/chromedriver.exe\")\n",
    "df_flipkart_rating_details=pd.DataFrame({})"
   ]
  },
  {
   "cell_type": "code",
   "execution_count": 41,
   "id": "2b2db42e",
   "metadata": {},
   "outputs": [],
   "source": [
    "url=\"https://www.flipkart.com/apple-iphone-11-black-64-gb-includes- earpods-power-adapter/p/itm0f37c2240b217?pid=MOBFKCTSVZAXUHGR&lid=LSTMOBFKCTSVZAXUHGREPBFGI&marketplace\"\n",
    "driver.get(url)"
   ]
  },
  {
   "cell_type": "code",
   "execution_count": 42,
   "id": "3c240bec",
   "metadata": {},
   "outputs": [],
   "source": [
    "flipkart_iphone1=pd.DataFrame({})"
   ]
  },
  {
   "cell_type": "code",
   "execution_count": 43,
   "id": "47f8a7cd",
   "metadata": {},
   "outputs": [
    {
     "name": "stderr",
     "output_type": "stream",
     "text": [
      "<ipython-input-43-634bd344a734>:1: DeprecationWarning: find_element_by_* commands are deprecated. Please use find_element() instead\n",
      "  driver.find_element_by_xpath(\"//div[@class='_3UAT2v _16PBlm']\").click()\n"
     ]
    }
   ],
   "source": [
    "driver.find_element_by_xpath(\"//div[@class='_3UAT2v _16PBlm']\").click()"
   ]
  },
  {
   "cell_type": "code",
   "execution_count": 44,
   "id": "c4939a0a",
   "metadata": {},
   "outputs": [],
   "source": [
    "def ratings(xpath):\n",
    "    rating=[]\n",
    "    ratings1=driver.find_elements_by_xpath(xpath)\n",
    "    for i in ratings1:\n",
    "        i=i.text\n",
    "        rating.append(i)\n",
    "    return rating\n",
    "    \n"
   ]
  },
  {
   "cell_type": "code",
   "execution_count": 45,
   "id": "e8c9dd48",
   "metadata": {},
   "outputs": [],
   "source": [
    "def summary(xpath):\n",
    "    summary1=[]\n",
    "    sum1=driver.find_elements_by_xpath(xpath)\n",
    "    for i in sum1:\n",
    "        i=i.text\n",
    "        summary1.append(i)\n",
    "    return summary1"
   ]
  },
  {
   "cell_type": "code",
   "execution_count": 46,
   "id": "b213d82f",
   "metadata": {},
   "outputs": [],
   "source": [
    "def descript(xpath):\n",
    "    description=[]\n",
    "    desc=driver.find_elements_by_xpath(xpath)\n",
    "    for i in desc:\n",
    "        i=i.text\n",
    "        description.append(i)\n",
    "    return description\n",
    "    "
   ]
  },
  {
   "cell_type": "code",
   "execution_count": 47,
   "id": "8232eada",
   "metadata": {},
   "outputs": [],
   "source": [
    "def next_link():\n",
    "    driver.find_element_by_xpath(\"//span[contains(text(),'Next')]\").click()\n",
    "    \n"
   ]
  },
  {
   "cell_type": "code",
   "execution_count": 48,
   "id": "f74a3e67",
   "metadata": {},
   "outputs": [
    {
     "name": "stderr",
     "output_type": "stream",
     "text": [
      "<ipython-input-44-64130772d72e>:3: DeprecationWarning: find_elements_by_* commands are deprecated. Please use find_elements() instead\n",
      "  ratings1=driver.find_elements_by_xpath(xpath)\n"
     ]
    }
   ],
   "source": [
    "flipkart_ratings=ratings(\"//div[@class='_3LWZlK _1BLPMq']\")\n",
    "flipkart_summary=summary(\"//p[@class='_2-N8zT']\")\n",
    "flipkart_description=descript(\"//div[@class='t-ZTKy']\")"
   ]
  },
  {
   "cell_type": "code",
   "execution_count": 50,
   "id": "2c66c1da",
   "metadata": {},
   "outputs": [
    {
     "name": "stderr",
     "output_type": "stream",
     "text": [
      "<ipython-input-44-64130772d72e>:3: DeprecationWarning: find_elements_by_* commands are deprecated. Please use find_elements() instead\n",
      "  ratings1=driver.find_elements_by_xpath(xpath)\n",
      "<ipython-input-47-adfdaf6beb5f>:2: DeprecationWarning: find_element_by_* commands are deprecated. Please use find_element() instead\n",
      "  driver.find_element_by_xpath(\"//span[contains(text(),'Next')]\").click()\n"
     ]
    }
   ],
   "source": [
    "for i in range(10):\n",
    "    flipkart_ratings[i]=ratings(\"//div[@class='_3LWZlK _1BLPMq']\")\n",
    "    flipkart_summary[i]=summary(\"//p[@class='_2-N8zT']\")\n",
    "    flipkart_description[i]=descript(\"//div[@class='t-ZTKy']\")\n",
    "    time.sleep(2)\n",
    "    next_link()\n",
    "    time.sleep(2)\n",
    "        "
   ]
  },
  {
   "cell_type": "code",
   "execution_count": 51,
   "id": "54cf2b73",
   "metadata": {},
   "outputs": [
    {
     "data": {
      "text/plain": [
       "['5',\n",
       " '4',\n",
       " '5',\n",
       " '5',\n",
       " '5',\n",
       " '5',\n",
       " '5',\n",
       " '5',\n",
       " '5',\n",
       " '3',\n",
       " '5',\n",
       " '5',\n",
       " '5',\n",
       " '5',\n",
       " '5',\n",
       " '4',\n",
       " '5',\n",
       " '4',\n",
       " '5',\n",
       " '4',\n",
       " '3',\n",
       " '5',\n",
       " '5',\n",
       " '5',\n",
       " '5',\n",
       " '5',\n",
       " '5',\n",
       " '5',\n",
       " '5',\n",
       " '5',\n",
       " '5',\n",
       " '5',\n",
       " '5',\n",
       " '4',\n",
       " '5',\n",
       " '4',\n",
       " '5',\n",
       " '5',\n",
       " '5',\n",
       " '5',\n",
       " '5',\n",
       " '5',\n",
       " '5',\n",
       " '5',\n",
       " '5',\n",
       " '5',\n",
       " '4',\n",
       " '5',\n",
       " '5',\n",
       " '5',\n",
       " '5',\n",
       " '5',\n",
       " '5',\n",
       " '5',\n",
       " '5',\n",
       " '5',\n",
       " '5',\n",
       " '5',\n",
       " '4',\n",
       " '5',\n",
       " '5',\n",
       " '3',\n",
       " '5',\n",
       " '5',\n",
       " '3',\n",
       " '5',\n",
       " '4',\n",
       " '5',\n",
       " '5',\n",
       " '5',\n",
       " '5',\n",
       " '5',\n",
       " '5',\n",
       " '5',\n",
       " '5',\n",
       " '5',\n",
       " '5',\n",
       " '5',\n",
       " '5',\n",
       " '4',\n",
       " '5',\n",
       " '5',\n",
       " '3',\n",
       " '5',\n",
       " '5',\n",
       " '5',\n",
       " '5',\n",
       " '5',\n",
       " '4',\n",
       " '3',\n",
       " '5',\n",
       " '5',\n",
       " '5',\n",
       " '5',\n",
       " '5',\n",
       " '3',\n",
       " '4',\n",
       " '5',\n",
       " '5']"
      ]
     },
     "execution_count": 51,
     "metadata": {},
     "output_type": "execute_result"
    }
   ],
   "source": [
    "single_list = []\n",
    "for elem in flipkart_ratings:\n",
    "    single_list.extend(elem)\n",
    "single_list[0:100]\n"
   ]
  },
  {
   "cell_type": "code",
   "execution_count": 52,
   "id": "f68c19bc",
   "metadata": {},
   "outputs": [
    {
     "data": {
      "text/plain": [
       "['Worth every penny',\n",
       " 'Pretty good',\n",
       " 'Fabulous!',\n",
       " 'Mind-blowing purchase',\n",
       " 'Excellent',\n",
       " 'Super!',\n",
       " 'Just wow!',\n",
       " 'Terrific purchase',\n",
       " 'Awesome',\n",
       " 'Decent product',\n",
       " 'Awesome',\n",
       " 'Worth every penny',\n",
       " 'Wonderful',\n",
       " 'Classy product',\n",
       " 'Must buy!',\n",
       " 'Wonderful',\n",
       " 'Mind-blowing purchase',\n",
       " 'Good quality product',\n",
       " 'Fabulous!',\n",
       " 'Good quality product',\n",
       " 'Does the job',\n",
       " 'Best in the market!',\n",
       " 'Excellent',\n",
       " 'Mind-blowing purchase',\n",
       " 'Super!',\n",
       " 'Best in the market!',\n",
       " 'Mind-blowing purchase',\n",
       " 'Classy product',\n",
       " 'Brilliant',\n",
       " 'Most Price worthy Iphone',\n",
       " 'Excellent',\n",
       " 'Terrific purchase',\n",
       " 'Fabulous!',\n",
       " 'Value-for-money',\n",
       " 'Highly recommended',\n",
       " 'Really Nice',\n",
       " 'Great product',\n",
       " 'Mind-blowing purchase',\n",
       " 'Terrific purchase',\n",
       " 'Great product',\n",
       " 'excellent',\n",
       " 'Simply awesome',\n",
       " 'Wonderful',\n",
       " 'Fabulous!',\n",
       " 'Perfect product!',\n",
       " 'Mind-blowing purchase',\n",
       " 'Good choice',\n",
       " 'Best in the market!',\n",
       " 'Super!',\n",
       " 'Classy product',\n",
       " 'Super!',\n",
       " 'Absolute rubbish!',\n",
       " 'Terrific',\n",
       " 'Wonderful',\n",
       " 'Excellent',\n",
       " 'Worth every penny',\n",
       " 'Must buy!',\n",
       " 'Terrific',\n",
       " 'Worth every penny',\n",
       " 'Delightful',\n",
       " 'Awesome',\n",
       " 'Perfect product!',\n",
       " 'Just okay',\n",
       " 'Fabulous!',\n",
       " 'Fabulous!',\n",
       " 'Just okay',\n",
       " 'Just wow!',\n",
       " 'Delightful',\n",
       " 'Terrific purchase',\n",
       " 'Perfect product!',\n",
       " 'Classy product',\n",
       " 'Terrific',\n",
       " 'Terrific',\n",
       " 'Just wow!',\n",
       " 'Fabulous!',\n",
       " 'Mind-blowing purchase',\n",
       " 'Just wow!',\n",
       " 'Worth every penny',\n",
       " 'Just wow!',\n",
       " 'Super!',\n",
       " 'Good choice',\n",
       " 'Simply awesome',\n",
       " 'Great product',\n",
       " 'Nice',\n",
       " 'Mind-blowing purchase',\n",
       " 'Worth every penny',\n",
       " 'Mind-blowing purchase',\n",
       " 'Awesome',\n",
       " 'Awesome',\n",
       " 'Wonderful',\n",
       " 'Does the job',\n",
       " 'Fabulous!',\n",
       " 'Super!',\n",
       " 'Terrific',\n",
       " 'Fabulous!',\n",
       " 'Great product',\n",
       " 'Just okay',\n",
       " 'Value-for-money',\n",
       " 'Mind-blowing purchase',\n",
       " 'Terrific']"
      ]
     },
     "execution_count": 52,
     "metadata": {},
     "output_type": "execute_result"
    }
   ],
   "source": [
    "single_list_summary = []\n",
    "for elem in flipkart_summary:\n",
    "    single_list_summary.extend(elem)\n",
    "single_list_summary[0:100]"
   ]
  },
  {
   "cell_type": "code",
   "execution_count": 53,
   "id": "bbdad2fb",
   "metadata": {},
   "outputs": [
    {
     "data": {
      "text/plain": [
       "['Undoubtedly Iphone 11 is the most successful model till now and its performance is extraordinary and the security features are very impressive, display is more vibrant sound quality Camera Quality 5*****, but Iphone should add accessories too and act like scrooge.',\n",
       " \"I've used this phone for over a month now and here are my takeaways.\\nI would like to first talk about the best things about this phone and then the cons of it.\\n\\nPros:\\nThis phone is a performance beast. It handles large games and applications effortlessly and you won't find any stutters or lags while playing graphic intensive games like pubg, cod , mortal kombat and asphalt.\\n\\nThis phone has only 4gb ram and yet the ram management is amazing, it can keep 3 heavy games in memory without reload...\\nREAD MORE\",\n",
       " 'I purchased the iPhone 11 a month back. I must say Apple has impressed me yet again . I have been an Apple user for past 5 years . The phone is power packed with amazing features . What impressed me the most was the battery backup the phone offers . Battery can easily run upto 1.5 days in single charge with moderate to\\nHeavy usage . If you’re looking for a value for money device , I don’t see any other phone in the price range which can match the iPhone 11 .\\nOne thing I didn’t like was that ...\\nREAD MORE',\n",
       " 'Excellent camera 📸 And Display touching very Nice And Smooth and very improvement against\\nI phone 11 and new processor is very fast',\n",
       " 'A perfect phone and a good battery super camera and the sound is dynamic overall the phone is perfect for upgrading from lower iPhone model to iPhone 11',\n",
       " 'This is my first ever iPhone.\\nAnd I truly don’t regret switching to IOS from my Android.\\n\\nIt is easily an alternative to a DSLR camera.\\nIf you’re obsessed with photos and videos, just don’t think twice or don’t compare to other androids(Samsung S10 lite or OnePlus 8/8T), as it’s far better from them in every field.\\nComparing will only make you confused.\\n\\nI am getting an average Screen on Time of around 10 hours with 30 percent left. I haven’t let my device discharged below 30 % as it aff...\\nREAD MORE',\n",
       " 'The ultimate performance\\nCamera is superb\\nThe battery backup also very good i never saw iphone gives this much of battery backup\\nIf any one wana buy iphone 11 definitely i will recommend this mobile\\nIt has the better battery and powerfull processer peak performance glorious camera and the display also 100% high quality lcd display if u had money for for 12 if u dont wana invest much money on that then go for iphone 11 it has maximum same specs only main difference between the 12 and 11 is...\\nREAD MORE',\n",
       " 'I use a Note10+ and have been using both iOS and Android devices.\\n\\nCamera has really good features and portraits are super good, better than Samsung flagship. Overall camera setup can still be enhanced and hopeful for better upgrades on software in next release\\n\\nOperating system is quite a breeze and user experience of daily usage is very high as compared to Android. I moved to iOS very swiftly in 2 days for all my office work from Note10+\\n\\nBattery holds up quite well with 4 hrs of call and ...\\nREAD MORE',\n",
       " 'The phone is completely good\\nAs far as camera Apple is king of it\\nAnd its a beast in performance\\nAnd the battery is pretty good too',\n",
       " 'Everything u ll like it when u use this iPhone. Simple changes only not many to lower models but it’s nice to use. Little heavy compared to previous models like 7,8',\n",
       " 'Can’t beat the software and hardware integration of apple.\\nPerforms like a beast. Great quality camera\\n6-7 hours screen on time which is good. Nothing much to complaint about the screen. Good connectivity speeds.\\nGreat buy and Flipkart’s delivery top notch as usual',\n",
       " 'iPhone is delivered on time. Display is great u won’t feel that it’s a hd panel. Quality is excellent. Sounds is great it has stereo setup. Camera is good. iOS 14.2 comes in the box. U roughly get 113 gb free if u buy 128 gb. This is my second iPhone and i love it. Value for money.',\n",
       " 'Nice value for money good and best price I phone mind blowing camera processor very fast other android mobile I am happy India top selling phone 2020',\n",
       " 'I got this phone for good price hence 5 star for it , and over quality is good because the price to buy iphone was worth at 41000',\n",
       " \"Camera is excellent just lack of telephoto mode frankly dose not needed either night mode is just 🙏🙏 12 12 12 mp (2back 1 front) camera lover just don't miss the deal\\nDisplay lcd but feel like super amoled\\nAt46999 with no cost EMI just a best deal\",\n",
       " \"I genuinely liked it. One of the best mobile phones I have used. It's sho smooth and it's security is very astonishing. Plus it has a very good camera quality. so overall it's a win win.\",\n",
       " 'Flipkart honoured on time delivery, I have used 6s , now I have upgraded apple 11 . Really great experience for new iPhone. Thank you apple and flipkart.',\n",
       " 'Awesome camera, smooth and fast UI, display is great (though not LED) but the black area at the top could have been reduced. Battery remains a day even if used heavily. Charger in the box is ok, but 12 or 18W could have been nothing like anything. Overall an excellent product and comfortable to use. I have got it almost a month back and so far so good.',\n",
       " 'Good product nice experience with Flipkart but I am unhappy with the packaging part because such a valuable product comes under normal cover without any additional wrapping and that too for Plus customers. Expecting good Packaging in future from Sellers.',\n",
       " 'I was torn between the oneplus 8 pro and the iphone 11. I had to shell out extra money for this, but I say if you can afford it, this truely is the best package.\\nMind blowing camera, battery and overall performance. Face Id works like magic even in complete darkness without firing up the screen brightness. The phones with in display fingerprint scanners do this at night time and it really burns your eyes.\\nI wanted the oneplus for its display but tbh the OLEDs on oneplus is really bad. Flick...\\nREAD MORE',\n",
       " \"phone is good but in display is 720p lcd in this price range we can get full hd OLED displays with higher refresh rate processor is very good camera is nice but looks kind of oldish in front of todays phone also there's no charging in box had to buy it seperately\",\n",
       " 'Don’t expect much from front camera… especially who loves beauty mode and filters.. back cameras are good…video department is always plus point in iPhones… battery capacity is really surprising lasts for one day at least… performance always good and smooth… speaker’s quality is good…built quality best and haptic feedback is enjoyable…\\nNote : images are good after you edit',\n",
       " 'Seller - SuperComNet ( my trust in you has grown deeper. Thanks for the genuine product )\\nThe package came packed perfectly. The box was sealed which gave me a big relief.\\n\\nApple needs no introduction since its the dominant market player. I just love the way how IPhone 11 stands out so boldly. The moment I took it out from the box, I could feel the premium intensity. The body is remarkable and crafted for giving you a elite vibe.\\n\\nCamera is to die for. There is no other phone that can beat...\\nREAD MORE',\n",
       " \"i was confused between 11 and 11 pro. i was going towards 11 pro, but the screen size was not enough for me.\\nAnd i saw 11 in the showroom. i didn't find much difference in screen quality.And cameras seems to be ok with me. And i saw offer's in flipkart and made the purchase.\\nthe device is fabulous. The hardware and software quality is excellent. The new iOS is something you need to experience yourself. The drawback i found was absence of fast charger, but the pricing can compensate that. Am...\\nREAD MORE\",\n",
       " \"It's a great phone. From camera to display everything is best for the price.\\nBest camera , best performance. I think everyone should buy it . This phone has best battery life so far in iphone series which I had used earlier. Happy to have it. Thanks Flipkart\",\n",
       " 'Really very nice... my dad gifted me really I am soo happy with this phone love it 😇',\n",
       " 'Released in 2019\\nIn 2021 still the best in segment\\nPros:\\nCamera 4/5 night photograph takes -1\\nPerformance 5/5\\nBattery backup normal usage 5/5 should last more than a day\\nHeavy usage battery backup 4/5 as compared have a smaller battery but should give around 5-6h of heavy usage like game play\\nBattery charging from 18w charger 3.5/5 not as fast as compared to dash charger but does the job well 0-50% in somewhat takes 40 mins which is ok\\n\\nCons:\\nNo earpod\\nNo 3.5mm jack connector I remember gett...\\nREAD MORE',\n",
       " 'Got my iPhone 11 today! It’s totally worth it even in 2021. Takes wonderful images and the stabilisation of video on this phone is just awesome although it is a 2019 model. Performance wise it’s ultra fast as expected to be. The only drawback per paper is the screen it has, but in usage I noticed nothing bad and the screen was totally fine for me!\\nI upgraded from Nokia 6.1 Plus and it’s great 🤩',\n",
       " 'Wow wow and wow, in 48k you will not get anything better than this, processor is awsome, camera is a beast, display is superb, this is my first iphone, and I am already in love with these',\n",
       " 'Reviewing within 1st Month\\n\\n\\n1st Month Review\\nThis is my first Iphone. So been new to the Ios Environment i faced some basic issues. Whatever issues i am facing is because of change in environment.\\nVideo Output is amazing.\\nBattery - Typical One Day Battery. 20 W fast charger is amazing which charges the iphone within 40-60 Mins ( purchased separately)\\nCamera - Good and Natural Colours. ( I have Samsung S21+ and not at par with its camera) but the output is same all the time which is good.\\n...\\nREAD MORE',\n",
       " 'Value for money product. This iphone 11 is really amazing. Again nice release by apple. Great camera, battery backup is excellent. I just love this phone',\n",
       " 'Well , as we all know if its not an Iphone , its not an iphone . The iphones are always beast . The camera game has been level up . The A13 Bionic is just fabulous . The update this year are certainly the camera which is damn good with d addition of wide angle lens as well as ultra wide . If anyones purchasing an iphone for the first time , do opt for the black color . Its just feels more than premium . Battery life is damn good with lasting fully a day . Overall a nice package . Well managed...\\nREAD MORE',\n",
       " \"Just an awesome phone...upgraded from 6s to 11 and trust me guys it's super cool with amazing features..loved it ♥️ and a big thank you to Flipkart for delivering it in just 2 days ?\",\n",
       " 'As usual a great product from Apple. but the look wise there were some scope to make it more attractive. from the back it looks nice. picture quality is awesome . face id is blazing fast. The lightning fast bionic processor makes the phone butter smooth.Battery back up is unbeatable and best of the released iPhone.full display is still missing. however, a iPhone is a iPhone. The iPhone lovers know the value of an iPhone 🙂',\n",
       " 'Amazing camera quality as expected, battery also has very good performance. Display, body, and touch experience is the best I’ve ever had. Sound quality of speakers is more than sufficient. Apple is known for it’s customer friendly security services and I can see it how. The A13 processor is the best in its work. So I would definitely recommend it for everyone who are looking for it, just go for it without delay.\\n\\nThe most amazing thing it the delivery. Flipkart has delivered it in the span ...\\nREAD MORE',\n",
       " \"Great phone and camera and timely delivery by Flipkart!\\nYou wouldn't love the display if you're coming from a one plus or Samsung, go for iPhone 12. If display isn't your priority, this is a great choice.\",\n",
       " \"Great quality at not so great price, But worth it. Don't go for specs, better performance than so called spec master Chinese phones. The display could have been atleast an smiled one with atleast 90hz at this price point.\",\n",
       " 'After using more than a year of using iPhone11 here is my complete review:\\n1. Camera is almost perfect 8/10 except for some advantages you’ll see in Samsung S20. (Zoom, Better Image stabilisation etc)\\n2. Battery performance is 10/10\\n3. OS performance is 10/10\\n4. Build Quality 9/10 as you need to buy good quality back cover with tampered\\n5. Face Lock feature is awesome 10/10\\n6. You need to buy new charger but don’t buy more than 18 watt charger optimum is 15 / 18 watt charger. For fast chargin...\\nREAD MORE',\n",
       " 'Fkng awesome phone, you won’t regret spending money on it.\\nBattery is 3110mah, sufficient amount if you’re not continuously using it. Performance is up-to to the point.\\nFace ID is extremely fast and smooth, you wont even realize you’ve unlocked your phone.\\nFYI I’m reviewing this product after 3 months of usage because I wanted to know how the battery and other things are in this phone. So if you are thinking of buying it, Just go for it.',\n",
       " 'This iphone 11 by apple is simply amazing . Ios is so crisp and smooth that you will love .\\nI will definitely recommend it , earlier i was confused between iphone 11 and oneplus 9r. But i have made a correct choice.\\nGo with this beast without any hasitation.',\n",
       " 'I liked it very much, super performance , giving best battery life around one day. fast charging is super. camera quality is excellent no words.',\n",
       " \"Incredible phone with a excellent battery and a better experience.\\nThose who are concerned about its screen quality.Trust me this is one of the best IPS panal.\\nPreviously I used OnePlus 5t which had a full hd AMOLED display,but I didn't notice a huge difference.\\nIf a get a fabulous deal then just go for it.\",\n",
       " 'Dont think too much guys. perfect phone for day today use. If you are familiar with apple then go for it. camera is good which can match up with next 3 years, battery is good than all other iPhones. Definitely morning to evening-8 it can do. Display is not that bad, you will be satisfied. Best mobile worth for the money. Best for one handed issue. Very less overheating than other mobiles in market. Go for 128 gb or 256. This iphone can live upto next 3-4 years for sure. Enjoy Apple👌🏾',\n",
       " \"This is my first I phone and I'm very happy to have it but it's battery life is not good as Android have that's all. All over phone is Awesome\",\n",
       " 'Excellent service by Flipkart. The phone is true value for money, the camera is great especially the low light night photography.\\nThe processor is fast making gaming a lot of fun.\\nI read a lot of negative reviews about the display but I was using a OnePlus before and somehow the iphone 11 display is more easy on the eyes and the adaptive brightness is more effective than any of the other phones that I have used.\\nCharging is a bit slow owing to the smaller charger included in the box inste...\\nREAD MORE',\n",
       " 'It’s a quiet good for new users. And I’m happy with it. Thanks apple and Flipkart too. 😊♥️',\n",
       " 'I have my first iPhone\\nI love it\\nusing 15 day very good performance\\n\\nMobile- 5/4\\nCharging- 5/5\\nCamera- 5/5\\nBattery backup -5/5\\nDisplay- 5/4\\nCourier facility- 5/0 Very bad\\nCourier facility is poor. I have not happy in courier facility..',\n",
       " 'The only thing i didnt like about the phone is its display as its only an non full hd display means its not 1080p one and not an amoled one of course but still better than all the lcds out there in the market but at this price point android alternatives provide 144hz samoled like the rog phone 5, Aside from that the performance is top notch as you would expect from an Iphone and will last you for many years unlike androids who stop getting updates in less than 2 years',\n",
       " \"Good display in this phone however screen is LCD, you'll get a bit disappointed .\\nCamera is superb , I have tried underwater shot is sea water, works good. Video quality is a bit inferior as compared to similar price range phones.\\nPerformance is superb. Maybe the best in this range , even with A13 bionic chip and 4GB ram, it works really smooth.\\nBattery is fine, you'll get decent backup.\\nNo charger inside , that's very disappointing for 1st time users. I had previously iPhone and iPad so it...\\nREAD MORE\",\n",
       " 'This is very second time I am using iphone I am not a huge fan of I phone but as my past experience iphone is always iphone whn you use it in your hand and it feel firmly buildup and camera quality is awesome processing is fast and realy smooth while using it.Night mode is awesome and photography is brilliant. Go for it and it will be great if you buy it worth it',\n",
       " 'I’d like to start by saying that the overall experience with the iPhone 11 is super smooth and amazing in every aspect. It’s an absolute powerhouse.\\n\\nPerformance - The Apple A13 Bionic is super optimised. You will not face any performance issue at all. You will never have to worry about the lag on this one.\\n\\nBattery - Battery life is one of the best you can get in a iPhone at this time. It’s better than the XR. Average use can get you more than a day and heavy use will get you through the da...\\nREAD MORE',\n",
       " 'Worst product delivered by Flipkart\\nAfter 10days of delivery mobile will not work properly\\nVolume and silent buttons are not working.\\nNo worth to buy in Flipkart.\\nPlease don’t buy apple products in Flipkart',\n",
       " 'Good buy.. working perfectly !\\n\\nThat was upgrade from 6S to 11. I see no deference in both the phones except:\\n1. Battery performance\\n2. Camera quality\\n3. Face detection unlock\\n\\nGo for it..!',\n",
       " \"Ok, so after almost 3 years I am again back into Apple Ecosystem. Switching from Android to iOS has just one disadvantage imo, and that's you can't take your WhatsApp data restored to iOS. Everything starts fresh, pretty sad. I am so glad that I chose iPhone 11 over 12. With 5G nowhere in India for at least an year will have an added advantage to iPhone 11. Spending extra 25k just for A14 chipset and OLED display is not a clever choice. Anyways, a fantastic phone with everything fit perfectly...\\nREAD MORE\",\n",
       " '🤩🤩🤩🤩🤩🤩I loved the Phone.. Every time I pick up the phone it makes me happy... The phone is beast💪💪 and the camera is fabulous 🥰🥰🥰.. I think one of my great purchase from Flipkart.. Thank you Filpkart..',\n",
       " 'I upgraded from one plus 6 to iPhone 11 and it’s too good. Very smooth, battery also good. I love it. And thanks flipkart for fast delivery.',\n",
       " 'I will just say its an awesome phone. Starting from speed , battery life, resolutions, camera quality, features it is superior in all department versus its predecessor. Also would like to state that at this price point it is an extraordinary value product. Recommend anyone who is looking for a highend smart phone within a range of 60k to 100K. .',\n",
       " 'Have used both iPhone X and iPhone XR and I can say upgrade only if you want better camera it’s awesome with great display even though lcd but still better than oled on iPhone X or XS.\\nThe camera is huge improvement in low light and very nice improvement in less light and times better than iPhone X but not that big improvement on iPhone XR in day light but very big improvement in low light.',\n",
       " 'Just go for it without a second thought, if you are looking for a best phone in the market and want to save 40k to not go for iPhone 11 pro, the only thing i think this product is feel missing is Oled display software do the job of portrait, so go for it rather than 11 pro. Everything is at top with this phone. I am writing this review after using this phone for more than 2 months.',\n",
       " 'Nice camera for front and back.. The display is not as good because it makes sound when we tap on it! But overall it’s a good phone.',\n",
       " 'Best iphone ever.. best value for money phone.. easy to hold and face unlock is very fast and works even in dark.. looks very cool.. delivered in one day.. best flipkart experience and get also the original product. Red one is the .best color and most selling color so I love red one.',\n",
       " 'At time of writing this review this phone processor definitely beat any flagship android phone !\\n\\nUpgraded from 7 Plus which is also quite good\\n\\nBut this phone performance is huge ! Fast and always to roll 😅\\nLow light Camera is great\\nBut i think portrait mode is not good as iPhone 7 plus\\nIn this phone portrait mode is looks like artificial but on my previous phone it looks like dslr photo maybe i am missing setting on this !\\n\\nOtherwise everything is good !',\n",
       " \"Genuine review after few weeks.\\nDecent camera quality.\\nDon't expect to meet the quality and features of the upcoming brands with cheaper prices and better megapixels. Overall smooth experience and everything seems so good. If you have used iOS before, you know the ease of using it.\\nLooks so secure and fast.\\nDefinately it beats my 6GB phones in performance.\\nIf you play games don't bother about RAM, the processor kills it.\\nOverall a good choice to switch from Android to iOS.\\nDon't expect that V...\\nREAD MORE\",\n",
       " 'I really liked the budget iPhone. First I thought display would be issue as it is a LCD with less pixels, then after using my perception changed and I never felt like I am using an outdated display. Though I also use S 10+ with Amoled display.\\n\\nSo this is perfect iPhone and a real value for money.',\n",
       " 'Awesome mobile… Battery Backup is really impressive, getting a solid battery life of 1.5 days with a normal usage. Even if u are a heavy user, u will get a day of backup for sure. Excellent audio quality. Overall I’m very much satisfied with the device :)',\n",
       " 'I have been using iphone 11 model since its launch. Here is my review\\nPros:\\nPerformance\\nPrivacy\\nOS Updates\\nBuild quality\\nSound\\n\\nCons:\\nDisplay issue: After using for nearly a year a small line popped up at left notch and slowly it spread to right notch. Well it could an exceptional case\\n\\nAt this price range \\uf8ff could have given OLED screen.\\n\\nPrice: I strongly believe this product has been overpriced.\\nSignal Issue: I see this issue across the \\uf8ff devices.\\nCharging: I takes around 4hrs for 100% wit...\\nREAD MORE',\n",
       " 'Not mere a phone , Its more than that for fun and enjoy life. Just grab it. Best luck',\n",
       " 'Received product before the delivery date performance is very good value for money no problem till now camera is also good but the screen is lcd which is not good and irritate some time so you have to compromise the screen Flipkart services is good and nice',\n",
       " 'Very good phone. All the apps are running smoothly. Sleek and sturdy design. No more words for apple as it has its own class.',\n",
       " \"Awesome Product. Initially I was looking for green color but wasn't available and then I went for white one and believe me it's really awesome color.\",\n",
       " 'Finally switched to iOS from android\\nThere is some things which u can’t do like using android but it’s worth to iOS. Battery backup is good holds for a day in average. Cam quality is okay. Good night mode visibility.',\n",
       " 'Very good smartphone and value for smoother and speedy response and work',\n",
       " 'This is very nice phone with great camera, performance, battery but their display is not good as their price overall best iphone to purchase right now',\n",
       " 'Got delivered by good packing from Flipkart with a agreed time line. Apple always stood good and great products towards their customers and this is my 2nd Iphone overall experience with phone is great, Especially when it comes battery gives long-standing performance for applications and gaming purposes, Camera is one of the great features includes in this mobile\\n\\nI will strongly suggest this !',\n",
       " 'Iphone is best ever but Flipkart delivered is quality on the product is so promising i really satisfied and trust with it by Flipkart assured\\nTq..🥰',\n",
       " 'Quite osm more then expected . Purple color truly recommended its lookin so beautiful then others .Someone suggest me and have selected the same color its beautiful.\\n\\n\\nPerformance is far better then my last i phone',\n",
       " 'My first iPhone. Still wondering where was I lost all this while. Always thought that an iPhone is just to pricey and not worth its cost. Trust me, I didn’t regret once for this mighty purchase. It is a different ecosystem all together and I have become an Apple fan instantly. Now all my gadgets ought to be Apple. Just seamless, timeless, super smooth, flamboyant, style statement, and the list is endless. The back camera is worth the hype not the selfie camera. Sound quality is surround sound...\\nREAD MORE',\n",
       " 'PROS:\\n1. Ballistic performance\\n2. Amazing image quality from the camera setup\\n3. Superb battery performance,\\n4. Design\\n5. Fit and finish.\\n6. iOS 13 integration with the hardware.\\nCONS:\\n1. Display quality leaves a lot to be desired. The non-1080p display is hardly noticeable during regular usage and is more than a pass. But if you are someone who use their phone for a majority of video playback, you’re in for a disappointment. Otherwise, it’s perfect for every other need.\\n2. The overall s...\\nREAD MORE',\n",
       " 'iPhone 11 is good but if someone want Superior phone then go for 11 pro because screen display is too good from iPhone 11 and as well as camera quality',\n",
       " 'Everything good as expected from Apple, but only thing thing missing is the 18w power adapter, because if the phone is compatible for fast charging and it takes more than 3 hours for full charge on a normal charger then it should come bundled with the 18w adapter.',\n",
       " 'Great product as usual. Handy phone with best processor and camera quality in the market. Recommended 128GB storage 👍',\n",
       " 'excellent mobile phone with amazing feautures. 100% value for money.The greatest attribute was its battery(all day long usage). dont hesitate to buy. Only difference between 11pro and 11 is display and its telescope lens remaining all are same',\n",
       " 'Terrific!!! Lucky to get this phone in first lot. First switch over for me from android. awesome camera.. One of the best in class.. go for iphone 11 if you are the first time user.',\n",
       " 'Iphone 11 black 64gb is really a cool phone\\n\\n1. Camera is superb using it long time heats the phone a bit\\n2. iOS 13 is elegant and nice\\n3. Video yet to test\\n4. Charger : Phone has the capability to fast charge but charger is not capable of doing it which frustrates being a top brand and providing and charger like this is worst from Apple\\n5. Sound quality especially in headphones is wonderful',\n",
       " 'This is phone is super duper sexy.\\nYou will get in love with this phone the moment you will unbox it.\\nPerformance is awesome.\\nSo smooth, easy to handle.\\nSometimes, if working continuously, you will feel that the phone is heavy otherwise you won’t if worked for shorter period of time.\\nI would personally suggest you to go for 128GB version because it will be a true value for money.\\nTalking about colour, I find white colour as a royal one.',\n",
       " \"no complaint against the display it's very crisp , though it is not the OLED but if you put side by side and compare with iPhone xs you hardly notice any difference , i noticed the brightness because 11 has 600 nits compare to 1200 nits on xs . other wise you never feel that its a 720 p display. very very good quality LCD screen you can't compare with any other LCD screen it's far better than any other LCD screen available in market. battery is very impressive , and Love the sound of stereo s...\\nREAD MORE\",\n",
       " 'Wow!! What a beauty.. i was a hardcore fan of android and i always felt iphone is overrated. Features are far inferior to android and costs 4 times. I am a heavy user and for me battery life is one of the more important feature and everyone knows apple lacked in it. This is my 1st iphone and I am loving the change. RAM concept was totally misunderstood.. it is the most fluidic set I ever used. In hand feel is premium. Display is good but I loved the one plus more in this. Battery life is a sh...\\nREAD MORE',\n",
       " 'Features and design is good bt not satisfied with display i lyk apple bcz of their display quality bt in dis ph they give same diplay like other brands give us i hv 6s too frankly speaking both 6s and 11 have lcd display bt lots of diff between them\\nApple previous lcd display was awsm bt nw jst making money like other brands vary disappointing it feels like m playing ios in samsung screen',\n",
       " 'So good look comfortable iPhone 11 I am so very happy my life first time iPhone used camera is 👌 sound quality is clear sounds',\n",
       " \"If I consider it just as a smartphone, it's pretty expensive. Have to admit that I payed a lot of money just for the brand. I understand people use apple products for years and if we consider the time span the phone is also worth for the money. But, there are also phones available under 10k and runs for years. Yes, it is true.\\nBuy, this phone only if you want to show others how much you earn, otherwise it's nothing but just a smartphone like others are.\",\n",
       " 'The phone is awesome undoubtedly and worth the purchase .\\n\\nI had preordered it from Flipkart, but this time I am little disappointed with the packaging from Flipkart . I had preordered iPhone 7 Plus too but that time the packaging was excellent but didn’t get the same experience this time .... hence rating it a little low. Flipkart should have packed it better as it’s worth is much more .... Expecting betterment next time ...',\n",
       " 'Best phone in this price segment people say that it is a IPS display but don’t judge a book with the specs sheet only I have not seen any LCD Display like this in any smartphone industry leading IPS display . Everything is awesome in this phone but sometime but apple should have been giving OLED in this price segment',\n",
       " 'brilliant design I personally liked red colour\\nprocessing speed\\ncamera\\nbattery\\ndisplay\\neverything is gorgeous in iphone 11\\nthis is super smooth',\n",
       " 'Switched from Android to Iphone. great experience till now. Night photography feature is Awesome. Scope of improvement in front camera. Fantastic & seamless gaming experience.',\n",
       " 'Just love it... I rated battery 1 star because, when I turned it on it was only 3% 🥺🥺😭. Now I need to wait until the charger comes. But ye, overall I just love this phone♥️♥️♥️♥️♥️♥️♥️♥️♥️♥️♥️♥️♥️♥️ My first ever iPhone😄 My daddy gifted me as a birthday gift, so it will be my mark to return something special more than this♥️ I only want to thank is to my dad.... Thank you Apple for your wonderful product😘🍎❤️😇',\n",
       " \"I was using android phone earlier..I was thinking apple phones are much more costy than other phones with less specifications..so why to waste money in this??..But trust me guys once if you start using ios then you won't go back to android...beleive me this phone is the best than all other...There is no other phone which can beat iphones in terms of camera..iphones gives the best real image..its very faster and smoother than android phones...if you think to switch to ios iphone 11 is the best...\\nREAD MORE\",\n",
       " \"iPhone 11 is not better than Samsung s20 at the same price\\nIf you need to buy a phone under 65000/ pls go for Samsung S20, this is better choice for you. I'm not satisfied\",\n",
       " 'Reviewing after 10 days\\nCamera:- In this price segment best camera phone for Video as well as photo. This mobile not for the selfie lover due lack of beautification option.\\nDisplay :- LCD display not justify its price. Quality not upto the mark. Light yellowish tint observed on display even after colour correction.\\nBattery :- Battery back up good, It last full day.\\nProfessor :- No doubt about Iphone processor. It is best A13 bionic chip better than SD 865.\\nOS:- Little bit difficult to unders...\\nREAD MORE',\n",
       " 'The best phone I have ever owned!\\n\\nCamera: Rear camera is one of the best in the industry. The front camera is7/10. My Poco f1 with Google Camera mod took better selfies.\\n\\nPerformance: If you are moving from an android device, the performance is unreal. The sync between hardware and software is unreal! There is virtually no lag at all. All games run on it smooth AF! Bluetooth, WiFi performance is superb as well.\\n\\nBattery Life: Getting close to 7-7.5 of screen on time. Very good in comparison...\\nREAD MORE',\n",
       " \"Excellent phone. Got it for 29k after exchange and bank offer. Totally value for money at that price. Loved the product red colour.\\niOS is smooth and no lags at all. Shifted from android though I have used iOS earlier and totally loving iOS.\\nGot an original sealed box piece so go ahead and order without worrying. Also received the iOS 14.5.1 after turning on the phone immediately.\\nFor people who are worried that there is no 5G in this phone don't hesitate to buy it. 5G is going to take tim...\\nREAD MORE\"]"
      ]
     },
     "execution_count": 53,
     "metadata": {},
     "output_type": "execute_result"
    }
   ],
   "source": [
    "single_list_description = []\n",
    "for elem in flipkart_description:\n",
    "    single_list_description.extend(elem)\n",
    "single_list_description[0:100]"
   ]
  },
  {
   "cell_type": "markdown",
   "id": "262f87bd",
   "metadata": {},
   "source": [
    "## 6. Flipkart sneakers details"
   ]
  },
  {
   "cell_type": "code",
   "execution_count": 55,
   "id": "30ef34f2",
   "metadata": {},
   "outputs": [
    {
     "name": "stderr",
     "output_type": "stream",
     "text": [
      "<ipython-input-55-d379e45411ea>:1: DeprecationWarning: executable_path has been deprecated, please pass in a Service object\n",
      "  driver = webdriver.Chrome(\"C:/chromedriver.exe\")\n"
     ]
    }
   ],
   "source": [
    "driver = webdriver.Chrome(\"C:/chromedriver.exe\")\n",
    "driver.get(\"https://www.flipkart.com\")\n",
    "df_flipkart=pd.DataFrame({})"
   ]
  },
  {
   "cell_type": "code",
   "execution_count": 56,
   "id": "e67015a4",
   "metadata": {},
   "outputs": [
    {
     "name": "stderr",
     "output_type": "stream",
     "text": [
      "<ipython-input-56-1213088bead2>:1: DeprecationWarning: find_element_by_* commands are deprecated. Please use find_element() instead\n",
      "  driver.find_element_by_xpath(\"//input[@class='_3704LK']\").send_keys(\"sneakers\")\n",
      "<ipython-input-56-1213088bead2>:2: DeprecationWarning: find_element_by_* commands are deprecated. Please use find_element() instead\n",
      "  driver.find_element_by_xpath(\"//button[@class='L0Z3Pu']\").click()\n"
     ]
    }
   ],
   "source": [
    "driver.find_element_by_xpath(\"//input[@class='_3704LK']\").send_keys(\"sneakers\")\n",
    "driver.find_element_by_xpath(\"//button[@class='L0Z3Pu']\").click()"
   ]
  },
  {
   "cell_type": "code",
   "execution_count": 57,
   "id": "d134660e",
   "metadata": {},
   "outputs": [],
   "source": [
    "def sneakers(xpath):\n",
    "    sneaker_brands=[]\n",
    "    sneakers_brands=driver.find_elements_by_xpath(xpath)\n",
    "    for i in sneakers_brands:\n",
    "        sneaker=i.text\n",
    "        sneaker_brands.append(sneaker)\n",
    "    return sneaker_brands"
   ]
  },
  {
   "cell_type": "code",
   "execution_count": 58,
   "id": "9251eb7a",
   "metadata": {},
   "outputs": [
    {
     "name": "stderr",
     "output_type": "stream",
     "text": [
      "<ipython-input-57-43e65d6308ff>:3: DeprecationWarning: find_elements_by_* commands are deprecated. Please use find_elements() instead\n",
      "  sneakers_brands=driver.find_elements_by_xpath(xpath)\n"
     ]
    }
   ],
   "source": [
    "sneakers_brands1=sneakers(\"//div[@class='_2B099V']//div[@class='_2WkVRV']\")\n",
    "sneakers_description=sneakers(\"//a[@class='IRpwTa']\")\n",
    "sneakers_price=sneakers(\"//div[@class='_30jeq3']\")\n",
    "sneakers_discount=sneakers(\"//div[@class='_3Ay6Sb']\")"
   ]
  },
  {
   "cell_type": "code",
   "execution_count": 60,
   "id": "f8271538",
   "metadata": {},
   "outputs": [
    {
     "name": "stderr",
     "output_type": "stream",
     "text": [
      "<ipython-input-57-43e65d6308ff>:3: DeprecationWarning: find_elements_by_* commands are deprecated. Please use find_elements() instead\n",
      "  sneakers_brands=driver.find_elements_by_xpath(xpath)\n",
      "<ipython-input-60-5366a26e8caa>:7: DeprecationWarning: find_element_by_* commands are deprecated. Please use find_element() instead\n",
      "  driver.find_element_by_xpath(\"//a[@class='_1LKTO3']\").click()\n"
     ]
    }
   ],
   "source": [
    "for i in range(4):\n",
    "    sneakers_brands1[i]=sneakers(\"//div[@class='_2B099V']//div[@class='_2WkVRV']\")\n",
    "    sneakers_description[i]=sneakers(\"//a[@class='IRpwTa']\")\n",
    "    sneakers_price[i]=sneakers(\"//div[@class='_30jeq3']\")\n",
    "    sneakers_discount[i]=sneakers(\"//div[@class='_3Ay6Sb']\")\n",
    "    time.sleep(2)\n",
    "    driver.find_element_by_xpath(\"//a[@class='_1LKTO3']\").click()\n",
    "    time.sleep(2)"
   ]
  },
  {
   "cell_type": "code",
   "execution_count": 61,
   "id": "65dddc5c",
   "metadata": {},
   "outputs": [],
   "source": [
    "final_sneaker_brand = []\n",
    "for elem in sneakers_brands1:\n",
    "    final_sneaker_brand.extend(elem)"
   ]
  },
  {
   "cell_type": "code",
   "execution_count": 62,
   "id": "edebd1cc",
   "metadata": {},
   "outputs": [],
   "source": [
    "final_sneaker_descr = []\n",
    "for elem in sneakers_description:\n",
    "    final_sneaker_descr.extend(elem)"
   ]
  },
  {
   "cell_type": "code",
   "execution_count": 63,
   "id": "3a1302d9",
   "metadata": {},
   "outputs": [],
   "source": [
    "final_sneaker_price = []\n",
    "for elem in sneakers_price:\n",
    "    final_sneaker_price.extend(elem)"
   ]
  },
  {
   "cell_type": "code",
   "execution_count": 64,
   "id": "fc9272d5",
   "metadata": {},
   "outputs": [],
   "source": [
    "final_sneaker_discount = []\n",
    "for elem in sneakers_discount:\n",
    "    final_sneaker_discount.extend(elem)\n"
   ]
  },
  {
   "cell_type": "code",
   "execution_count": 65,
   "id": "a3298324",
   "metadata": {},
   "outputs": [],
   "source": [
    "flipkart_sneaker=pd.DataFrame({})\n",
    "flipkart_sneaker[\"Brand\"]=final_sneaker_brand[0:100]\n",
    "flipkart_sneaker[\"Description\"]=final_sneaker_descr[0:100]\n",
    "flipkart_sneaker[\"Price\"]=final_sneaker_price[0:100]\n",
    "flipkart_sneaker[\"Discount\"]=final_sneaker_discount[0:100]"
   ]
  },
  {
   "cell_type": "code",
   "execution_count": 66,
   "id": "f4795aa8",
   "metadata": {},
   "outputs": [
    {
     "data": {
      "text/html": [
       "<div>\n",
       "<style scoped>\n",
       "    .dataframe tbody tr th:only-of-type {\n",
       "        vertical-align: middle;\n",
       "    }\n",
       "\n",
       "    .dataframe tbody tr th {\n",
       "        vertical-align: top;\n",
       "    }\n",
       "\n",
       "    .dataframe thead th {\n",
       "        text-align: right;\n",
       "    }\n",
       "</style>\n",
       "<table border=\"1\" class=\"dataframe\">\n",
       "  <thead>\n",
       "    <tr style=\"text-align: right;\">\n",
       "      <th></th>\n",
       "      <th>Brand</th>\n",
       "      <th>Description</th>\n",
       "      <th>Price</th>\n",
       "      <th>Discount</th>\n",
       "    </tr>\n",
       "  </thead>\n",
       "  <tbody>\n",
       "    <tr>\n",
       "      <th>0</th>\n",
       "      <td>Robbie jones</td>\n",
       "      <td>Sneakers For Men</td>\n",
       "      <td>₹499</td>\n",
       "      <td>50% off</td>\n",
       "    </tr>\n",
       "    <tr>\n",
       "      <th>1</th>\n",
       "      <td>believe</td>\n",
       "      <td>Sneakers for men(black_6) Sneakers For Men</td>\n",
       "      <td>₹449</td>\n",
       "      <td>55% off</td>\n",
       "    </tr>\n",
       "    <tr>\n",
       "      <th>2</th>\n",
       "      <td>India hub</td>\n",
       "      <td>Fashionable casual sneakers shoes Sneakers For...</td>\n",
       "      <td>₹499</td>\n",
       "      <td>83% off</td>\n",
       "    </tr>\n",
       "    <tr>\n",
       "      <th>3</th>\n",
       "      <td>Extoes</td>\n",
       "      <td>Relaxed Attractive Combo pack of 3 Sneakers Fo...</td>\n",
       "      <td>₹729</td>\n",
       "      <td>51% off</td>\n",
       "    </tr>\n",
       "    <tr>\n",
       "      <th>4</th>\n",
       "      <td>Robbie jones</td>\n",
       "      <td>Sneakers For Men</td>\n",
       "      <td>₹499</td>\n",
       "      <td>50% off</td>\n",
       "    </tr>\n",
       "    <tr>\n",
       "      <th>...</th>\n",
       "      <td>...</td>\n",
       "      <td>...</td>\n",
       "      <td>...</td>\n",
       "      <td>...</td>\n",
       "    </tr>\n",
       "    <tr>\n",
       "      <th>95</th>\n",
       "      <td>Khadim's</td>\n",
       "      <td>Birde Trendy Casual Shoes Sneakers For Men</td>\n",
       "      <td>₹1,999</td>\n",
       "      <td>60% off</td>\n",
       "    </tr>\n",
       "    <tr>\n",
       "      <th>96</th>\n",
       "      <td>SPADE CLUB</td>\n",
       "      <td>Sneakers For Men</td>\n",
       "      <td>₹746</td>\n",
       "      <td>55% off</td>\n",
       "    </tr>\n",
       "    <tr>\n",
       "      <th>97</th>\n",
       "      <td>Robbie jones</td>\n",
       "      <td>Sneakers for men(black_6) Sneakers For Men</td>\n",
       "      <td>₹499</td>\n",
       "      <td>45% off</td>\n",
       "    </tr>\n",
       "    <tr>\n",
       "      <th>98</th>\n",
       "      <td>Kreverse</td>\n",
       "      <td>Fashionable casual sneakers shoes Sneakers For...</td>\n",
       "      <td>₹199</td>\n",
       "      <td>25% off</td>\n",
       "    </tr>\n",
       "    <tr>\n",
       "      <th>99</th>\n",
       "      <td>NIKE</td>\n",
       "      <td>Relaxed Attractive Combo pack of 3 Sneakers Fo...</td>\n",
       "      <td>₹4,995</td>\n",
       "      <td>57% off</td>\n",
       "    </tr>\n",
       "  </tbody>\n",
       "</table>\n",
       "<p>100 rows × 4 columns</p>\n",
       "</div>"
      ],
      "text/plain": [
       "           Brand                                        Description   Price  \\\n",
       "0   Robbie jones                                   Sneakers For Men    ₹499   \n",
       "1        believe         Sneakers for men(black_6) Sneakers For Men    ₹449   \n",
       "2      India hub  Fashionable casual sneakers shoes Sneakers For...    ₹499   \n",
       "3         Extoes  Relaxed Attractive Combo pack of 3 Sneakers Fo...    ₹729   \n",
       "4   Robbie jones                                   Sneakers For Men    ₹499   \n",
       "..           ...                                                ...     ...   \n",
       "95      Khadim's         Birde Trendy Casual Shoes Sneakers For Men  ₹1,999   \n",
       "96    SPADE CLUB                                   Sneakers For Men    ₹746   \n",
       "97  Robbie jones         Sneakers for men(black_6) Sneakers For Men    ₹499   \n",
       "98      Kreverse  Fashionable casual sneakers shoes Sneakers For...    ₹199   \n",
       "99          NIKE  Relaxed Attractive Combo pack of 3 Sneakers Fo...  ₹4,995   \n",
       "\n",
       "   Discount  \n",
       "0   50% off  \n",
       "1   55% off  \n",
       "2   83% off  \n",
       "3   51% off  \n",
       "4   50% off  \n",
       "..      ...  \n",
       "95  60% off  \n",
       "96  55% off  \n",
       "97  45% off  \n",
       "98  25% off  \n",
       "99  57% off  \n",
       "\n",
       "[100 rows x 4 columns]"
      ]
     },
     "execution_count": 66,
     "metadata": {},
     "output_type": "execute_result"
    }
   ],
   "source": [
    "flipkart_sneaker"
   ]
  },
  {
   "cell_type": "code",
   "execution_count": null,
   "id": "9752c3e4",
   "metadata": {},
   "outputs": [],
   "source": []
  },
  {
   "cell_type": "markdown",
   "id": "24015f4d",
   "metadata": {},
   "source": [
    "### 7. Myntra Webscrapping"
   ]
  },
  {
   "cell_type": "code",
   "execution_count": 67,
   "id": "0288f324",
   "metadata": {},
   "outputs": [
    {
     "name": "stderr",
     "output_type": "stream",
     "text": [
      "<ipython-input-67-e33040cb7ecc>:1: DeprecationWarning: executable_path has been deprecated, please pass in a Service object\n",
      "  driver= webdriver.Chrome(\"C:/chromedriver.exe\")\n"
     ]
    }
   ],
   "source": [
    "driver= webdriver.Chrome(\"C:/chromedriver.exe\")"
   ]
  },
  {
   "cell_type": "code",
   "execution_count": 68,
   "id": "dad5b504",
   "metadata": {},
   "outputs": [],
   "source": [
    "driver.get(\"https://www.myntra.com/shoes\")\n",
    "df_myntra=pd.DataFrame({})"
   ]
  },
  {
   "cell_type": "code",
   "execution_count": 71,
   "id": "4a3719a3",
   "metadata": {},
   "outputs": [
    {
     "name": "stderr",
     "output_type": "stream",
     "text": [
      "<ipython-input-71-3d99af24bae8>:1: DeprecationWarning: find_element_by_* commands are deprecated. Please use find_element() instead\n",
      "  color_filter=driver.find_element_by_xpath(\"//ul//li[@class='colour-listItem']//label[1]\")\n"
     ]
    }
   ],
   "source": [
    "color_filter=driver.find_element_by_xpath(\"//ul//li[@class='colour-listItem']//label[1]\")\n",
    "color_filter.click()\n"
   ]
  },
  {
   "cell_type": "code",
   "execution_count": 72,
   "id": "2c11640c",
   "metadata": {},
   "outputs": [
    {
     "name": "stderr",
     "output_type": "stream",
     "text": [
      "<ipython-input-72-7bfb2bf428da>:1: DeprecationWarning: find_element_by_* commands are deprecated. Please use find_element() instead\n",
      "  shoe_price_filter=driver.find_element_by_xpath(\"//ul[@class='price-list']//li[2]\")\n"
     ]
    }
   ],
   "source": [
    "shoe_price_filter=driver.find_element_by_xpath(\"//ul[@class='price-list']//li[2]\")\n",
    "shoe_price_filter.click()"
   ]
  },
  {
   "cell_type": "code",
   "execution_count": 73,
   "id": "70b9f14e",
   "metadata": {},
   "outputs": [],
   "source": [
    "def shoe_brands():\n",
    "    shoe_brands=[]\n",
    "    brands=driver.find_elements_by_xpath(\"//h3[@class='product-brand']\")\n",
    "    for i in brands:\n",
    "        i=i.text\n",
    "        shoe_brands.append(i)\n",
    "    return shoe_brands"
   ]
  },
  {
   "cell_type": "code",
   "execution_count": 74,
   "id": "39a97816",
   "metadata": {},
   "outputs": [],
   "source": [
    "def shoe_descr():\n",
    "    shoe_desc=[]\n",
    "    description=driver.find_elements_by_xpath(\"//div[@class='product-productMetaInfo']//h4[@class='product-product']\")\n",
    "    for i in description:\n",
    "        i=i.text\n",
    "        shoe_desc.append(i)\n",
    "    return shoe_desc"
   ]
  },
  {
   "cell_type": "code",
   "execution_count": 75,
   "id": "1b023c06",
   "metadata": {},
   "outputs": [],
   "source": [
    "def shoe_price():\n",
    "    shoe_price=[]\n",
    "    prices=driver.find_elements_by_xpath(\"//div[@class='product-price']\")\n",
    "    for i in prices:\n",
    "        i=i.text\n",
    "        shoe_price.append(i)\n",
    "    return shoe_price"
   ]
  },
  {
   "cell_type": "code",
   "execution_count": 76,
   "id": "43f1fe29",
   "metadata": {},
   "outputs": [
    {
     "name": "stderr",
     "output_type": "stream",
     "text": [
      "<ipython-input-76-b4a0b5d17cd9>:1: DeprecationWarning: find_element_by_* commands are deprecated. Please use find_element() instead\n",
      "  next_button=driver.find_element_by_xpath(\"//li[@class='pagination-next']\")\n",
      "<ipython-input-73-e878c0b355bd>:3: DeprecationWarning: find_elements_by_* commands are deprecated. Please use find_elements() instead\n",
      "  brands=driver.find_elements_by_xpath(\"//h3[@class='product-brand']\")\n"
     ]
    }
   ],
   "source": [
    "\n",
    "\n",
    "\n",
    "next_button=driver.find_element_by_xpath(\"//li[@class='pagination-next']\")\n",
    "first_shoe_name=shoe_brands()\n",
    "first_shoe_desc=shoe_descr()\n",
    "first_shoe_price=shoe_price()\n",
    "next_button.click()\n",
    "time.sleep(3)\n",
    "second_shoe_name=shoe_brands()\n",
    "second_shoe_desc=shoe_descr()\n",
    "second_shoe_price=shoe_price()\n",
    "next_button.click()\n",
    "time.sleep(3)\n",
    "third_shoe_name=shoe_brands()\n",
    "third_shoe_desc=shoe_descr()\n",
    "third_shoe_price=shoe_price()"
   ]
  },
  {
   "cell_type": "code",
   "execution_count": 77,
   "id": "1aa44433",
   "metadata": {},
   "outputs": [],
   "source": [
    "df_myntra[\"shoe_brands\"]=first_shoe_name+second_shoe_name+third_shoe_name\n",
    "df_myntra[\"shoe_description\"]=first_shoe_desc+second_shoe_desc+third_shoe_desc\n",
    "df_myntra[\"shoe_price\"]=first_shoe_price+second_shoe_price+third_shoe_price"
   ]
  },
  {
   "cell_type": "code",
   "execution_count": 78,
   "id": "ba40357f",
   "metadata": {},
   "outputs": [
    {
     "data": {
      "text/html": [
       "<div>\n",
       "<style scoped>\n",
       "    .dataframe tbody tr th:only-of-type {\n",
       "        vertical-align: middle;\n",
       "    }\n",
       "\n",
       "    .dataframe tbody tr th {\n",
       "        vertical-align: top;\n",
       "    }\n",
       "\n",
       "    .dataframe thead th {\n",
       "        text-align: right;\n",
       "    }\n",
       "</style>\n",
       "<table border=\"1\" class=\"dataframe\">\n",
       "  <thead>\n",
       "    <tr style=\"text-align: right;\">\n",
       "      <th></th>\n",
       "      <th>shoe_brands</th>\n",
       "      <th>shoe_description</th>\n",
       "      <th>shoe_price</th>\n",
       "    </tr>\n",
       "  </thead>\n",
       "  <tbody>\n",
       "    <tr>\n",
       "      <th>0</th>\n",
       "      <td>Nike</td>\n",
       "      <td>AIR ZOOM PEGASUS Running Shoes</td>\n",
       "      <td>Rs. 8995Rs. 9995(10% OFF)</td>\n",
       "    </tr>\n",
       "    <tr>\n",
       "      <th>1</th>\n",
       "      <td>Nike</td>\n",
       "      <td>Air Zoom Pegasus 38 Shield Run</td>\n",
       "      <td>Rs. 10345Rs. 11495(10% OFF)</td>\n",
       "    </tr>\n",
       "    <tr>\n",
       "      <th>2</th>\n",
       "      <td>Nike</td>\n",
       "      <td>Men Zoom Span 4 Running Shoes</td>\n",
       "      <td>Rs. 7195</td>\n",
       "    </tr>\n",
       "    <tr>\n",
       "      <th>3</th>\n",
       "      <td>Puma</td>\n",
       "      <td>Men Jamming 2.0 Running Shoes</td>\n",
       "      <td>Rs. 10399Rs. 12999(20% OFF)</td>\n",
       "    </tr>\n",
       "    <tr>\n",
       "      <th>4</th>\n",
       "      <td>Nike</td>\n",
       "      <td>Men FLIGHT LEGACY Sneakers</td>\n",
       "      <td>Rs. 7995</td>\n",
       "    </tr>\n",
       "    <tr>\n",
       "      <th>...</th>\n",
       "      <td>...</td>\n",
       "      <td>...</td>\n",
       "      <td>...</td>\n",
       "    </tr>\n",
       "    <tr>\n",
       "      <th>95</th>\n",
       "      <td>J.FONTINI</td>\n",
       "      <td>Men Textured Leather Formal Loafers</td>\n",
       "      <td>Rs. 8990</td>\n",
       "    </tr>\n",
       "    <tr>\n",
       "      <th>96</th>\n",
       "      <td>KLEAT</td>\n",
       "      <td>Men Suede Flat Boots</td>\n",
       "      <td>Rs. 8999</td>\n",
       "    </tr>\n",
       "    <tr>\n",
       "      <th>97</th>\n",
       "      <td>Geox</td>\n",
       "      <td>Women Quilted Leather Pumps</td>\n",
       "      <td>Rs. 8999</td>\n",
       "    </tr>\n",
       "    <tr>\n",
       "      <th>98</th>\n",
       "      <td>Saint G</td>\n",
       "      <td>Women Heeled Boots</td>\n",
       "      <td>Rs. 9500</td>\n",
       "    </tr>\n",
       "    <tr>\n",
       "      <th>99</th>\n",
       "      <td>Saint G</td>\n",
       "      <td>Women Leather Heeled Boots</td>\n",
       "      <td>Rs. 9500</td>\n",
       "    </tr>\n",
       "  </tbody>\n",
       "</table>\n",
       "<p>100 rows × 3 columns</p>\n",
       "</div>"
      ],
      "text/plain": [
       "   shoe_brands                     shoe_description  \\\n",
       "0         Nike       AIR ZOOM PEGASUS Running Shoes   \n",
       "1         Nike       Air Zoom Pegasus 38 Shield Run   \n",
       "2         Nike        Men Zoom Span 4 Running Shoes   \n",
       "3         Puma        Men Jamming 2.0 Running Shoes   \n",
       "4         Nike           Men FLIGHT LEGACY Sneakers   \n",
       "..         ...                                  ...   \n",
       "95   J.FONTINI  Men Textured Leather Formal Loafers   \n",
       "96       KLEAT                 Men Suede Flat Boots   \n",
       "97        Geox          Women Quilted Leather Pumps   \n",
       "98     Saint G                   Women Heeled Boots   \n",
       "99     Saint G           Women Leather Heeled Boots   \n",
       "\n",
       "                     shoe_price  \n",
       "0     Rs. 8995Rs. 9995(10% OFF)  \n",
       "1   Rs. 10345Rs. 11495(10% OFF)  \n",
       "2                      Rs. 7195  \n",
       "3   Rs. 10399Rs. 12999(20% OFF)  \n",
       "4                      Rs. 7995  \n",
       "..                          ...  \n",
       "95                     Rs. 8990  \n",
       "96                     Rs. 8999  \n",
       "97                     Rs. 8999  \n",
       "98                     Rs. 9500  \n",
       "99                     Rs. 9500  \n",
       "\n",
       "[100 rows x 3 columns]"
      ]
     },
     "execution_count": 78,
     "metadata": {},
     "output_type": "execute_result"
    }
   ],
   "source": [
    "df_myntra[0:100]"
   ]
  },
  {
   "cell_type": "markdown",
   "id": "a2a91b3e",
   "metadata": {},
   "source": [
    "### 8. Amazon Laptop webscrapping"
   ]
  },
  {
   "cell_type": "code",
   "execution_count": 79,
   "id": "4dc184f6",
   "metadata": {},
   "outputs": [
    {
     "name": "stderr",
     "output_type": "stream",
     "text": [
      "<ipython-input-79-e33040cb7ecc>:1: DeprecationWarning: executable_path has been deprecated, please pass in a Service object\n",
      "  driver= webdriver.Chrome(\"C:/chromedriver.exe\")\n"
     ]
    }
   ],
   "source": [
    "driver= webdriver.Chrome(\"C:/chromedriver.exe\")"
   ]
  },
  {
   "cell_type": "code",
   "execution_count": 80,
   "id": "c168d5e5",
   "metadata": {},
   "outputs": [],
   "source": [
    "driver.get(\"https://www.amazon.in/\")"
   ]
  },
  {
   "cell_type": "code",
   "execution_count": 81,
   "id": "a27596f8",
   "metadata": {},
   "outputs": [
    {
     "name": "stderr",
     "output_type": "stream",
     "text": [
      "<ipython-input-81-15203cb803fe>:1: DeprecationWarning: find_element_by_* commands are deprecated. Please use find_element() instead\n",
      "  driver.find_element_by_id(\"twotabsearchtextbox\").send_keys(\"Laptop\")\n"
     ]
    }
   ],
   "source": [
    "driver.find_element_by_id(\"twotabsearchtextbox\").send_keys(\"Laptop\")"
   ]
  },
  {
   "cell_type": "code",
   "execution_count": 82,
   "id": "57bc4209",
   "metadata": {},
   "outputs": [
    {
     "name": "stderr",
     "output_type": "stream",
     "text": [
      "<ipython-input-82-88d29b7e76a7>:1: DeprecationWarning: find_element_by_* commands are deprecated. Please use find_element() instead\n",
      "  driver.find_element_by_id(\"nav-search-submit-button\").click()\n"
     ]
    }
   ],
   "source": [
    "driver.find_element_by_id(\"nav-search-submit-button\").click()"
   ]
  },
  {
   "cell_type": "code",
   "execution_count": 83,
   "id": "e479098c",
   "metadata": {},
   "outputs": [
    {
     "name": "stderr",
     "output_type": "stream",
     "text": [
      "<ipython-input-83-f896acd4a215>:1: DeprecationWarning: find_element_by_* commands are deprecated. Please use find_element() instead\n",
      "  w=driver.find_element_by_xpath(\"//span[@class='a-list-item']//span[contains(text(),'Intel Core i7')]\")\n"
     ]
    }
   ],
   "source": [
    "w=driver.find_element_by_xpath(\"//span[@class='a-list-item']//span[contains(text(),'Intel Core i7')]\")\n",
    "w.click()"
   ]
  },
  {
   "cell_type": "code",
   "execution_count": 84,
   "id": "d4adcbc9",
   "metadata": {},
   "outputs": [],
   "source": [
    "# w1=driver.find_element_by_xpath(\"//span[@class='a-list-item']//span[contains(text(),'Intel Core i9')]\")\n",
    "# w1.click()"
   ]
  },
  {
   "cell_type": "code",
   "execution_count": 85,
   "id": "3ad6b0eb",
   "metadata": {},
   "outputs": [],
   "source": [
    "laptop_df=pd.DataFrame({})\n"
   ]
  },
  {
   "cell_type": "code",
   "execution_count": 86,
   "id": "e1b2e13c",
   "metadata": {},
   "outputs": [],
   "source": [
    "titles=[]\n",
    "ratings=[]\n",
    "price=[]"
   ]
  },
  {
   "cell_type": "code",
   "execution_count": 87,
   "id": "97ec48d3",
   "metadata": {},
   "outputs": [
    {
     "name": "stderr",
     "output_type": "stream",
     "text": [
      "<ipython-input-87-d9e640bea24b>:1: DeprecationWarning: find_elements_by_* commands are deprecated. Please use find_elements() instead\n",
      "  laptops_title=driver.find_elements_by_xpath(\"//span[@class='a-size-medium a-color-base a-text-normal']\")\n"
     ]
    }
   ],
   "source": [
    "laptops_title=driver.find_elements_by_xpath(\"//span[@class='a-size-medium a-color-base a-text-normal']\")\n",
    "for i in laptops_title:\n",
    "    title=i.text\n",
    "    titles.append(title)\n",
    "laptop_df['laptop_title']=titles[0:10]"
   ]
  },
  {
   "cell_type": "code",
   "execution_count": 88,
   "id": "ba097f51",
   "metadata": {},
   "outputs": [
    {
     "name": "stderr",
     "output_type": "stream",
     "text": [
      "<ipython-input-88-f804b84a79bc>:1: DeprecationWarning: find_elements_by_* commands are deprecated. Please use find_elements() instead\n",
      "  laptop_rating=driver.find_elements_by_xpath('//div[@class=\"a-row a-size-small\"]//span[1]')\n"
     ]
    },
    {
     "name": "stdout",
     "output_type": "stream",
     "text": [
      "Stepped splitted List : [['4.0 out of 5 stars', '4.3 out of 5 stars', '4.0 out of 5 stars', '4.3 out of 5 stars', '4.2 out of 5 stars', '4.6 out of 5 stars', '4.2 out of 5 stars', '4.3 out of 5 stars', '5.0 out of 5 stars', '3.8 out of 5 stars', '5.0 out of 5 stars', '3.7 out of 5 stars', '4.4 out of 5 stars', '4.3 out of 5 stars', '4.3 out of 5 stars', '4.0 out of 5 stars', '4.3 out of 5 stars', '4.6 out of 5 stars', '4.1 out of 5 stars', '4.7 out of 5 stars', '4.1 out of 5 stars', '4.2 out of 5 stars', '2.0 out of 5 stars', '4.3 out of 5 stars', '4.4 out of 5 stars', '4.1 out of 5 stars', '3.9 out of 5 stars'], [None, None, None, None, None, None, None, None, None, None, None, None, None, None, None, None, None, None, None, None, None, None, None, None, None, None, None], [None, None, None, None, None, None, None, None, None, None, None, None, None, None, None, None, None, None, None, None, None, None, None, None, None, None, None], [None, None, None, None, None, None, None, None, None, None, None, None, None, None, None, None, None, None, None, None, None, None, None, None, None, None, None]]\n"
     ]
    }
   ],
   "source": [
    "laptop_rating=driver.find_elements_by_xpath('//div[@class=\"a-row a-size-small\"]//span[1]')\n",
    "# print(laptop_rating.get_attribute('aria-label'))\n",
    "time.sleep(2)\n",
    "for i in laptop_rating:\n",
    "    i=i.get_attribute('aria-label')\n",
    "    ratings.append(i)\n",
    "ratings[0:10]\n",
    "K=4\n",
    "res=[]\n",
    "for idx in range(0, K):\n",
    "    res.append(ratings[idx::K])\n",
    "print(\"Stepped splitted List : \" + str(res))\n",
    "result=list(res)\n",
    "laptop_df['Ratings']=result[0][0:10]\n",
    "    "
   ]
  },
  {
   "cell_type": "code",
   "execution_count": 89,
   "id": "f69fc6e3",
   "metadata": {},
   "outputs": [
    {
     "name": "stderr",
     "output_type": "stream",
     "text": [
      "<ipython-input-89-2c7474103fa7>:1: DeprecationWarning: find_elements_by_* commands are deprecated. Please use find_elements() instead\n",
      "  laptop_price=driver.find_elements_by_xpath(\"//span[@class='a-price-whole']\")\n"
     ]
    },
    {
     "name": "stdout",
     "output_type": "stream",
     "text": [
      "['1,57,990', '89,990', '3,73,999', '84,990', '57,990', '1,13,990', '1,09,990', '89,990', '88,490', '57,999']\n"
     ]
    }
   ],
   "source": [
    "laptop_price=driver.find_elements_by_xpath(\"//span[@class='a-price-whole']\")\n",
    "for i in laptop_price:\n",
    "    prices=i.text\n",
    "    price.append(prices)\n",
    "laptop_df['prices']=price[0:10]\n",
    "print(price[0:10])"
   ]
  },
  {
   "cell_type": "code",
   "execution_count": 90,
   "id": "dc3c731d",
   "metadata": {},
   "outputs": [
    {
     "data": {
      "text/html": [
       "<div>\n",
       "<style scoped>\n",
       "    .dataframe tbody tr th:only-of-type {\n",
       "        vertical-align: middle;\n",
       "    }\n",
       "\n",
       "    .dataframe tbody tr th {\n",
       "        vertical-align: top;\n",
       "    }\n",
       "\n",
       "    .dataframe thead th {\n",
       "        text-align: right;\n",
       "    }\n",
       "</style>\n",
       "<table border=\"1\" class=\"dataframe\">\n",
       "  <thead>\n",
       "    <tr style=\"text-align: right;\">\n",
       "      <th></th>\n",
       "      <th>laptop_title</th>\n",
       "      <th>Ratings</th>\n",
       "      <th>prices</th>\n",
       "    </tr>\n",
       "  </thead>\n",
       "  <tbody>\n",
       "    <tr>\n",
       "      <th>0</th>\n",
       "      <td>Lenovo Legion5 Pro 11th Gen Intel Core i7 16\" ...</td>\n",
       "      <td>4.0 out of 5 stars</td>\n",
       "      <td>1,57,990</td>\n",
       "    </tr>\n",
       "    <tr>\n",
       "      <th>1</th>\n",
       "      <td>Lenovo ThinkBook 13s Intel 11th Gen Core i7 13...</td>\n",
       "      <td>4.3 out of 5 stars</td>\n",
       "      <td>89,990</td>\n",
       "    </tr>\n",
       "    <tr>\n",
       "      <th>2</th>\n",
       "      <td>Microsoft Surface Laptop Studio - 14.4\" Touchs...</td>\n",
       "      <td>4.0 out of 5 stars</td>\n",
       "      <td>3,73,999</td>\n",
       "    </tr>\n",
       "    <tr>\n",
       "      <th>3</th>\n",
       "      <td>HP Pavilion (2021) Intel 11th Gen Core i7 14 i...</td>\n",
       "      <td>4.3 out of 5 stars</td>\n",
       "      <td>84,990</td>\n",
       "    </tr>\n",
       "    <tr>\n",
       "      <th>4</th>\n",
       "      <td>Mi Notebook Horizon Edition 14 Intel Core i7-1...</td>\n",
       "      <td>4.2 out of 5 stars</td>\n",
       "      <td>57,990</td>\n",
       "    </tr>\n",
       "    <tr>\n",
       "      <th>5</th>\n",
       "      <td>ASUS TUF Gaming F17 (2021), 17.3-inch (43.94 c...</td>\n",
       "      <td>4.6 out of 5 stars</td>\n",
       "      <td>1,13,990</td>\n",
       "    </tr>\n",
       "    <tr>\n",
       "      <th>6</th>\n",
       "      <td>Lenovo Yoga 7i 11th Gen Intel Core i7-1165G7 1...</td>\n",
       "      <td>4.2 out of 5 stars</td>\n",
       "      <td>1,09,990</td>\n",
       "    </tr>\n",
       "    <tr>\n",
       "      <th>7</th>\n",
       "      <td>Lenovo ThinkBook 13s Intel 11th Gen Core i7 13...</td>\n",
       "      <td>4.3 out of 5 stars</td>\n",
       "      <td>89,990</td>\n",
       "    </tr>\n",
       "    <tr>\n",
       "      <th>8</th>\n",
       "      <td>Dell 14 (2021) i7-1195G7 2in1 Touch Screen Lap...</td>\n",
       "      <td>5.0 out of 5 stars</td>\n",
       "      <td>88,490</td>\n",
       "    </tr>\n",
       "    <tr>\n",
       "      <th>9</th>\n",
       "      <td>(Renewed) Dell Intel Core i7 6th Gen 14-Inch(3...</td>\n",
       "      <td>3.8 out of 5 stars</td>\n",
       "      <td>57,999</td>\n",
       "    </tr>\n",
       "  </tbody>\n",
       "</table>\n",
       "</div>"
      ],
      "text/plain": [
       "                                        laptop_title             Ratings  \\\n",
       "0  Lenovo Legion5 Pro 11th Gen Intel Core i7 16\" ...  4.0 out of 5 stars   \n",
       "1  Lenovo ThinkBook 13s Intel 11th Gen Core i7 13...  4.3 out of 5 stars   \n",
       "2  Microsoft Surface Laptop Studio - 14.4\" Touchs...  4.0 out of 5 stars   \n",
       "3  HP Pavilion (2021) Intel 11th Gen Core i7 14 i...  4.3 out of 5 stars   \n",
       "4  Mi Notebook Horizon Edition 14 Intel Core i7-1...  4.2 out of 5 stars   \n",
       "5  ASUS TUF Gaming F17 (2021), 17.3-inch (43.94 c...  4.6 out of 5 stars   \n",
       "6  Lenovo Yoga 7i 11th Gen Intel Core i7-1165G7 1...  4.2 out of 5 stars   \n",
       "7  Lenovo ThinkBook 13s Intel 11th Gen Core i7 13...  4.3 out of 5 stars   \n",
       "8  Dell 14 (2021) i7-1195G7 2in1 Touch Screen Lap...  5.0 out of 5 stars   \n",
       "9  (Renewed) Dell Intel Core i7 6th Gen 14-Inch(3...  3.8 out of 5 stars   \n",
       "\n",
       "     prices  \n",
       "0  1,57,990  \n",
       "1    89,990  \n",
       "2  3,73,999  \n",
       "3    84,990  \n",
       "4    57,990  \n",
       "5  1,13,990  \n",
       "6  1,09,990  \n",
       "7    89,990  \n",
       "8    88,490  \n",
       "9    57,999  "
      ]
     },
     "execution_count": 90,
     "metadata": {},
     "output_type": "execute_result"
    }
   ],
   "source": [
    "laptop_df"
   ]
  },
  {
   "cell_type": "markdown",
   "id": "779a96d1",
   "metadata": {},
   "source": [
    "## 9. DataScientist jobs in Noida-Ambition Box"
   ]
  },
  {
   "cell_type": "code",
   "execution_count": 91,
   "id": "71aa4170",
   "metadata": {},
   "outputs": [
    {
     "name": "stderr",
     "output_type": "stream",
     "text": [
      "<ipython-input-91-e33040cb7ecc>:1: DeprecationWarning: executable_path has been deprecated, please pass in a Service object\n",
      "  driver= webdriver.Chrome(\"C:/chromedriver.exe\")\n"
     ]
    }
   ],
   "source": [
    "driver= webdriver.Chrome(\"C:/chromedriver.exe\")"
   ]
  },
  {
   "cell_type": "code",
   "execution_count": 92,
   "id": "6c61ed85",
   "metadata": {},
   "outputs": [
    {
     "name": "stderr",
     "output_type": "stream",
     "text": [
      "<ipython-input-92-ac3a7a3933fb>:2: DeprecationWarning: find_element_by_* commands are deprecated. Please use find_element() instead\n",
      "  driver.find_element_by_xpath(\"//a[@class='link jobs']\").click()\n",
      "<ipython-input-92-ac3a7a3933fb>:4: DeprecationWarning: find_element_by_* commands are deprecated. Please use find_element() instead\n",
      "  driver.find_element_by_name(\"ab_jobsSearch\").send_keys(\"Data Scientist\")\n",
      "<ipython-input-92-ac3a7a3933fb>:5: DeprecationWarning: find_element_by_* commands are deprecated. Please use find_element() instead\n",
      "  driver.find_element_by_xpath(\"//span[@class='ctas-btn-medium']\").click()\n",
      "<ipython-input-92-ac3a7a3933fb>:7: DeprecationWarning: find_element_by_* commands are deprecated. Please use find_element() instead\n",
      "  driver.find_element_by_xpath(\"//p[contains(text(),'Location')]\").click()\n",
      "<ipython-input-92-ac3a7a3933fb>:9: DeprecationWarning: find_element_by_* commands are deprecated. Please use find_element() instead\n",
      "  driver.find_element_by_id(\"location_Noida\").click()\n"
     ]
    }
   ],
   "source": [
    "driver.get(\"https://www.ambitionbox.com/\")\n",
    "driver.find_element_by_xpath(\"//a[@class='link jobs']\").click()\n",
    "time.sleep(2)\n",
    "driver.find_element_by_name(\"ab_jobsSearch\").send_keys(\"Data Scientist\")\n",
    "driver.find_element_by_xpath(\"//span[@class='ctas-btn-medium']\").click()\n",
    "time.sleep(5)\n",
    "driver.find_element_by_xpath(\"//p[contains(text(),'Location')]\").click()\n",
    "time.sleep(4)\n",
    "driver.find_element_by_id(\"location_Noida\").click()\n",
    "time.sleep(2)\n",
    "#location=[]\n",
    "#locations=driver.find_elements_by_xpath(\"//']\")\n",
    "#for i in locations:\n",
    " #   loc=i.text\n",
    "  #  location.append(loc)\n",
    "#location\n",
    "\n",
    "Ambition_box=pd.DataFrame({})"
   ]
  },
  {
   "cell_type": "code",
   "execution_count": 99,
   "id": "fdea1a0e",
   "metadata": {},
   "outputs": [
    {
     "name": "stderr",
     "output_type": "stream",
     "text": [
      "<ipython-input-99-cab4521cd620>:2: DeprecationWarning: find_elements_by_* commands are deprecated. Please use find_elements() instead\n",
      "  company_name=driver.find_elements_by_xpath(\"//p[@class='company body-medium']\")\n"
     ]
    }
   ],
   "source": [
    "Companies=[]\n",
    "company_name=driver.find_elements_by_xpath(\"//p[@class='company body-medium']\")\n",
    "for i in company_name:\n",
    "    company=i.text\n",
    "    Companies.append(company)\n",
    "    \n",
    "Ambition_box['Company_name']=Companies\n"
   ]
  },
  {
   "cell_type": "code",
   "execution_count": 96,
   "id": "5405c02c",
   "metadata": {},
   "outputs": [
    {
     "name": "stderr",
     "output_type": "stream",
     "text": [
      "<ipython-input-96-4cbf67b289ac>:2: DeprecationWarning: find_elements_by_* commands are deprecated. Please use find_elements() instead\n",
      "  posted_on=driver.find_elements_by_xpath(\"//div[@class='other-info']//span[@class='body-small-l']\")\n"
     ]
    },
    {
     "name": "stdout",
     "output_type": "stream",
     "text": [
      "['8d ago', 'via naukri.com', '1d ago', 'via naukri.com', '3d ago', 'via naukri.com', '9hr ago', 'via hirist.com', '29d ago', 'via naukri.com', '20d ago', 'via naukri.com', '20d ago', 'via naukri.com', '1mon ago', 'via naukri.com', '2d ago', 'via hirist.com', '5hr ago', 'via iimjobs.com']\n",
      "Stepped splitted List : [['8d ago', '1d ago', '3d ago', '9hr ago', '29d ago', '20d ago', '20d ago', '1mon ago', '2d ago', '5hr ago'], ['via naukri.com', 'via naukri.com', 'via naukri.com', 'via hirist.com', 'via naukri.com', 'via naukri.com', 'via naukri.com', 'via naukri.com', 'via hirist.com', 'via iimjobs.com']]\n"
     ]
    }
   ],
   "source": [
    "days=[]\n",
    "posted_on=driver.find_elements_by_xpath(\"//div[@class='other-info']//span[@class='body-small-l']\")\n",
    "for i in posted_on:\n",
    "    post=i.text\n",
    "    days.append(post)\n",
    "print(days)\n",
    "K = 2\n",
    "res = []\n",
    "for idx in range(0, K):\n",
    "    res.append(days[idx::K])\n",
    "print(\"Stepped splitted List : \" + str(res))\n",
    "result=list(res)\n",
    "Ambition_box['Posted_on']=result[0]"
   ]
  },
  {
   "cell_type": "code",
   "execution_count": 97,
   "id": "3bba7613",
   "metadata": {},
   "outputs": [
    {
     "name": "stderr",
     "output_type": "stream",
     "text": [
      "<ipython-input-97-321eb93b43aa>:2: DeprecationWarning: find_elements_by_* commands are deprecated. Please use find_elements() instead\n",
      "  rating=driver.find_elements_by_xpath(\"//span[@class='body-small']\")\n"
     ]
    }
   ],
   "source": [
    "ratings=[]\n",
    "rating=driver.find_elements_by_xpath(\"//span[@class='body-small']\")\n",
    "\n",
    "for i in rating:\n",
    "    rate=i.text\n",
    "    ratings.append(rate)\n",
    "    \n",
    "Ambition_box['Ratings']=ratings[0:10]"
   ]
  },
  {
   "cell_type": "code",
   "execution_count": 100,
   "id": "2c0a864f",
   "metadata": {},
   "outputs": [
    {
     "data": {
      "text/html": [
       "<div>\n",
       "<style scoped>\n",
       "    .dataframe tbody tr th:only-of-type {\n",
       "        vertical-align: middle;\n",
       "    }\n",
       "\n",
       "    .dataframe tbody tr th {\n",
       "        vertical-align: top;\n",
       "    }\n",
       "\n",
       "    .dataframe thead th {\n",
       "        text-align: right;\n",
       "    }\n",
       "</style>\n",
       "<table border=\"1\" class=\"dataframe\">\n",
       "  <thead>\n",
       "    <tr style=\"text-align: right;\">\n",
       "      <th></th>\n",
       "      <th>Company_name</th>\n",
       "      <th>Posted_on</th>\n",
       "      <th>Ratings</th>\n",
       "    </tr>\n",
       "  </thead>\n",
       "  <tbody>\n",
       "    <tr>\n",
       "      <th>0</th>\n",
       "      <td>Optum Global Solutions (India) Private Limited</td>\n",
       "      <td>8d ago</td>\n",
       "      <td>4.1</td>\n",
       "    </tr>\n",
       "    <tr>\n",
       "      <th>1</th>\n",
       "      <td>Steria India Ltd</td>\n",
       "      <td>1d ago</td>\n",
       "      <td>4.1</td>\n",
       "    </tr>\n",
       "    <tr>\n",
       "      <th>2</th>\n",
       "      <td>Ameriprise Financial</td>\n",
       "      <td>3d ago</td>\n",
       "      <td>4.1</td>\n",
       "    </tr>\n",
       "    <tr>\n",
       "      <th>3</th>\n",
       "      <td>Jubilant Foodworks Limited</td>\n",
       "      <td>9hr ago</td>\n",
       "      <td>3.9</td>\n",
       "    </tr>\n",
       "    <tr>\n",
       "      <th>4</th>\n",
       "      <td>Optum Global Solutions (India) Private Limited</td>\n",
       "      <td>29d ago</td>\n",
       "      <td>4.1</td>\n",
       "    </tr>\n",
       "    <tr>\n",
       "      <th>5</th>\n",
       "      <td>Steria India Ltd</td>\n",
       "      <td>20d ago</td>\n",
       "      <td>4.1</td>\n",
       "    </tr>\n",
       "    <tr>\n",
       "      <th>6</th>\n",
       "      <td>Steria India Ltd</td>\n",
       "      <td>20d ago</td>\n",
       "      <td>4.1</td>\n",
       "    </tr>\n",
       "    <tr>\n",
       "      <th>7</th>\n",
       "      <td>HCL Technologies Limited</td>\n",
       "      <td>1mon ago</td>\n",
       "      <td>3.8</td>\n",
       "    </tr>\n",
       "    <tr>\n",
       "      <th>8</th>\n",
       "      <td>Zyoin</td>\n",
       "      <td>2d ago</td>\n",
       "      <td>4.2</td>\n",
       "    </tr>\n",
       "    <tr>\n",
       "      <th>9</th>\n",
       "      <td>GI Group</td>\n",
       "      <td>5hr ago</td>\n",
       "      <td>3.9</td>\n",
       "    </tr>\n",
       "  </tbody>\n",
       "</table>\n",
       "</div>"
      ],
      "text/plain": [
       "                                     Company_name Posted_on Ratings\n",
       "0  Optum Global Solutions (India) Private Limited    8d ago     4.1\n",
       "1                                Steria India Ltd    1d ago     4.1\n",
       "2                            Ameriprise Financial    3d ago     4.1\n",
       "3                      Jubilant Foodworks Limited   9hr ago     3.9\n",
       "4  Optum Global Solutions (India) Private Limited   29d ago     4.1\n",
       "5                                Steria India Ltd   20d ago     4.1\n",
       "6                                Steria India Ltd   20d ago     4.1\n",
       "7                        HCL Technologies Limited  1mon ago     3.8\n",
       "8                                           Zyoin    2d ago     4.2\n",
       "9                                        GI Group   5hr ago     3.9"
      ]
     },
     "execution_count": 100,
     "metadata": {},
     "output_type": "execute_result"
    }
   ],
   "source": [
    "Ambition_box"
   ]
  },
  {
   "cell_type": "markdown",
   "id": "63bfeb95",
   "metadata": {},
   "source": [
    "### 10. Extract other informations from Ambition box"
   ]
  },
  {
   "cell_type": "code",
   "execution_count": 4,
   "id": "c3deb9db",
   "metadata": {},
   "outputs": [
    {
     "name": "stderr",
     "output_type": "stream",
     "text": [
      "<ipython-input-4-e33040cb7ecc>:1: DeprecationWarning: executable_path has been deprecated, please pass in a Service object\n",
      "  driver= webdriver.Chrome(\"C:/chromedriver.exe\")\n"
     ]
    }
   ],
   "source": [
    "driver= webdriver.Chrome(\"C:/chromedriver.exe\")"
   ]
  },
  {
   "cell_type": "code",
   "execution_count": 5,
   "id": "af3a2a28",
   "metadata": {},
   "outputs": [
    {
     "name": "stderr",
     "output_type": "stream",
     "text": [
      "<ipython-input-5-06997ba7851c>:3: DeprecationWarning: find_element_by_* commands are deprecated. Please use find_element() instead\n",
      "  driver.find_element_by_xpath(\"//a[@class='link salaries']\").click()\n",
      "<ipython-input-5-06997ba7851c>:4: DeprecationWarning: find_element_by_* commands are deprecated. Please use find_element() instead\n",
      "  searchbox= driver.find_element_by_id(\"jobProfileSearchbox\").send_keys(\"Data Scientist\")\n",
      "<ipython-input-5-06997ba7851c>:6: DeprecationWarning: find_element_by_* commands are deprecated. Please use find_element() instead\n",
      "  dropdown = driver.find_element_by_xpath(\"//div[@class='suggestion_wrap tt-suggestion tt-selectable']//p[contains(text(),'Data Scientist')]\").click()\n"
     ]
    }
   ],
   "source": [
    "driver.get(\"https://www.ambitionbox.com/\")\n",
    "time.sleep(3)\n",
    "driver.find_element_by_xpath(\"//a[@class='link salaries']\").click()\n",
    "searchbox= driver.find_element_by_id(\"jobProfileSearchbox\").send_keys(\"Data Scientist\")\n",
    "time.sleep(3)\n",
    "dropdown = driver.find_element_by_xpath(\"//div[@class='suggestion_wrap tt-suggestion tt-selectable']//p[contains(text(),'Data Scientist')]\").click()\n",
    "Ambition_box_salary=pd.DataFrame({})"
   ]
  },
  {
   "cell_type": "code",
   "execution_count": 6,
   "id": "8b2e8d54",
   "metadata": {},
   "outputs": [
    {
     "name": "stderr",
     "output_type": "stream",
     "text": [
      "<ipython-input-6-76462bbb9cba>:2: DeprecationWarning: find_elements_by_* commands are deprecated. Please use find_elements() instead\n",
      "  company_name=driver.find_elements_by_xpath(\"//div[@class='name']\")\n"
     ]
    }
   ],
   "source": [
    "Company_names=[]\n",
    "company_name=driver.find_elements_by_xpath(\"//div[@class='name']\")\n",
    "for i in company_name:\n",
    "    i=i.text.replace('\\n',\" \")\n",
    "    i=i.strip(\" \")\n",
    "    Company_names.append(i)\n",
    "\n",
    "Ambition_box_salary['Total_salary_record']=Company_names\n"
   ]
  },
  {
   "cell_type": "code",
   "execution_count": 7,
   "id": "45bf114f",
   "metadata": {},
   "outputs": [
    {
     "name": "stderr",
     "output_type": "stream",
     "text": [
      "<ipython-input-7-63a992d5c10e>:2: DeprecationWarning: find_elements_by_* commands are deprecated. Please use find_elements() instead\n",
      "  avg=driver.find_elements_by_xpath(\"//p[@class='averageCtc']\")\n"
     ]
    }
   ],
   "source": [
    "Avg_CTC=[]\n",
    "avg=driver.find_elements_by_xpath(\"//p[@class='averageCtc']\")\n",
    "for i in avg:\n",
    "    i=i.text\n",
    "    Avg_CTC.append(i)\n",
    "Ambition_box_salary['Avg_CTC']=Avg_CTC"
   ]
  },
  {
   "cell_type": "code",
   "execution_count": 8,
   "id": "d0d75e9e",
   "metadata": {},
   "outputs": [
    {
     "name": "stderr",
     "output_type": "stream",
     "text": [
      "<ipython-input-8-af00d462a99b>:2: DeprecationWarning: find_elements_by_* commands are deprecated. Please use find_elements() instead\n",
      "  min_salo=driver.find_elements_by_xpath(\"//div[@class='value body-medium']\")\n"
     ]
    },
    {
     "name": "stdout",
     "output_type": "stream",
     "text": [
      "Stepped splitted List : [['₹ 15.0L', '₹ 11.0L', '₹ 9.0L', '₹ 8.3L', '₹ 7.2L', '₹ 10.0L', '₹ 8.5L', '₹ 6.9L', '₹ 6.0L', '₹ 5.0L'], ['₹ 23.0L', '₹ 21.3L', '₹ 20.8L', '₹ 18.5L', '₹ 20.5L', '₹ 21.0L', '₹ 15.0L', '₹ 20.5L', '₹ 20.0L', '₹ 21.5L']]\n"
     ]
    }
   ],
   "source": [
    "min_sal=[]\n",
    "min_salo=driver.find_elements_by_xpath(\"//div[@class='value body-medium']\")\n",
    "for i in min_salo:\n",
    "    i=i.text.replace(\"\\n\",',')\n",
    "    min_sal.append(i)\n",
    "K = 2\n",
    "res = []\n",
    "for idx in range(0, K):\n",
    "    res.append(min_sal[idx::K])\n",
    "print(\"Stepped splitted List : \" +str(res))\n",
    "result=list(res)\n",
    "Ambition_box_salary['Minimum_Salary']=result[0]\n",
    "Ambition_box_salary['Maximum_Salary']=result[1]\n"
   ]
  },
  {
   "cell_type": "code",
   "execution_count": 9,
   "id": "6e54a306",
   "metadata": {},
   "outputs": [
    {
     "name": "stderr",
     "output_type": "stream",
     "text": [
      "<ipython-input-9-04d99b610502>:2: DeprecationWarning: find_elements_by_* commands are deprecated. Please use find_elements() instead\n",
      "  experience=driver.find_elements_by_xpath(\"//div[@class='salaries sbold-list-header']\")\n"
     ]
    }
   ],
   "source": [
    "exp=[]\n",
    "experience=driver.find_elements_by_xpath(\"//div[@class='salaries sbold-list-header']\")"
   ]
  },
  {
   "cell_type": "code",
   "execution_count": 10,
   "id": "509faaea",
   "metadata": {},
   "outputs": [
    {
     "name": "stdout",
     "output_type": "stream",
     "text": [
      "Stepped splitted List : [['Data Scientist ', 'Data Scientist ', 'Data Scientist ', 'Data Scientist ', 'Data Scientist ', 'Data Scientist ', 'Data Scientist ', 'Data Scientist ', 'Data Scientist ', 'Data Scientist '], [' 4 yrs exp', ' 3-4 yrs exp', ' 2-4 yrs exp', ' 3-4 yrs exp', ' 2-4 yrs exp', ' 4 yrs exp', ' 4 yrs exp', ' 2-4 yrs exp', ' 3-4 yrs exp', ' 3-4 yrs exp']]\n"
     ]
    }
   ],
   "source": [
    "for i in experience:\n",
    "    i=i.text.replace(\"\\n\",\"\")\n",
    "    i=i.split(\".\")\n",
    "    exp.append(i)\n",
    "List = []\n",
    "for elem in exp:\n",
    "    List.extend(elem)\n",
    "K = 2\n",
    "res = []\n",
    "for idx in range(0, K):\n",
    "    res.append(List[idx::K])\n",
    "print(\"Stepped splitted List : \" +str(res))\n",
    "result=list(res)\n",
    "Ambition_box_salary['Role']=result[0][0:10]\n",
    "Ambition_box_salary['Experience']=result[1][0:10]"
   ]
  },
  {
   "cell_type": "code",
   "execution_count": 11,
   "id": "6860fdcf",
   "metadata": {},
   "outputs": [
    {
     "data": {
      "text/html": [
       "<div>\n",
       "<style scoped>\n",
       "    .dataframe tbody tr th:only-of-type {\n",
       "        vertical-align: middle;\n",
       "    }\n",
       "\n",
       "    .dataframe tbody tr th {\n",
       "        vertical-align: top;\n",
       "    }\n",
       "\n",
       "    .dataframe thead th {\n",
       "        text-align: right;\n",
       "    }\n",
       "</style>\n",
       "<table border=\"1\" class=\"dataframe\">\n",
       "  <thead>\n",
       "    <tr style=\"text-align: right;\">\n",
       "      <th></th>\n",
       "      <th>Total_salary_record</th>\n",
       "      <th>Avg_CTC</th>\n",
       "      <th>Minimum_Salary</th>\n",
       "      <th>Maximum_Salary</th>\n",
       "      <th>Role</th>\n",
       "      <th>Experience</th>\n",
       "    </tr>\n",
       "  </thead>\n",
       "  <tbody>\n",
       "    <tr>\n",
       "      <th>0</th>\n",
       "      <td>Ab Inbev based on 10 salaries</td>\n",
       "      <td>₹ 19.4L</td>\n",
       "      <td>₹ 15.0L</td>\n",
       "      <td>₹ 23.0L</td>\n",
       "      <td>Data Scientist</td>\n",
       "      <td>4 yrs exp</td>\n",
       "    </tr>\n",
       "    <tr>\n",
       "      <th>1</th>\n",
       "      <td>Optum based on 22 salaries</td>\n",
       "      <td>₹ 15.1L</td>\n",
       "      <td>₹ 11.0L</td>\n",
       "      <td>₹ 21.3L</td>\n",
       "      <td>Data Scientist</td>\n",
       "      <td>3-4 yrs exp</td>\n",
       "    </tr>\n",
       "    <tr>\n",
       "      <th>2</th>\n",
       "      <td>Fractal Analytics based on 60 salaries</td>\n",
       "      <td>₹ 14.7L</td>\n",
       "      <td>₹ 9.0L</td>\n",
       "      <td>₹ 20.8L</td>\n",
       "      <td>Data Scientist</td>\n",
       "      <td>2-4 yrs exp</td>\n",
       "    </tr>\n",
       "    <tr>\n",
       "      <th>3</th>\n",
       "      <td>Tiger Analytics based on 24 salaries</td>\n",
       "      <td>₹ 13.4L</td>\n",
       "      <td>₹ 8.3L</td>\n",
       "      <td>₹ 18.5L</td>\n",
       "      <td>Data Scientist</td>\n",
       "      <td>3-4 yrs exp</td>\n",
       "    </tr>\n",
       "    <tr>\n",
       "      <th>4</th>\n",
       "      <td>UnitedHealth based on 45 salaries</td>\n",
       "      <td>₹ 13.3L</td>\n",
       "      <td>₹ 7.2L</td>\n",
       "      <td>₹ 20.5L</td>\n",
       "      <td>Data Scientist</td>\n",
       "      <td>2-4 yrs exp</td>\n",
       "    </tr>\n",
       "    <tr>\n",
       "      <th>5</th>\n",
       "      <td>Verizon based on 14 salaries</td>\n",
       "      <td>₹ 12.7L</td>\n",
       "      <td>₹ 10.0L</td>\n",
       "      <td>₹ 21.0L</td>\n",
       "      <td>Data Scientist</td>\n",
       "      <td>4 yrs exp</td>\n",
       "    </tr>\n",
       "    <tr>\n",
       "      <th>6</th>\n",
       "      <td>Ganit Business Solutions based on 12 salaries</td>\n",
       "      <td>₹ 12.4L</td>\n",
       "      <td>₹ 8.5L</td>\n",
       "      <td>₹ 15.0L</td>\n",
       "      <td>Data Scientist</td>\n",
       "      <td>4 yrs exp</td>\n",
       "    </tr>\n",
       "    <tr>\n",
       "      <th>7</th>\n",
       "      <td>Deloitte based on 45 salaries</td>\n",
       "      <td>₹ 11.2L</td>\n",
       "      <td>₹ 6.9L</td>\n",
       "      <td>₹ 20.5L</td>\n",
       "      <td>Data Scientist</td>\n",
       "      <td>2-4 yrs exp</td>\n",
       "    </tr>\n",
       "    <tr>\n",
       "      <th>8</th>\n",
       "      <td>Ernst &amp; Young based on 26 salaries</td>\n",
       "      <td>₹ 11.1L</td>\n",
       "      <td>₹ 6.0L</td>\n",
       "      <td>₹ 20.0L</td>\n",
       "      <td>Data Scientist</td>\n",
       "      <td>3-4 yrs exp</td>\n",
       "    </tr>\n",
       "    <tr>\n",
       "      <th>9</th>\n",
       "      <td>Ericsson based on 43 salaries</td>\n",
       "      <td>₹ 10.9L</td>\n",
       "      <td>₹ 5.0L</td>\n",
       "      <td>₹ 21.5L</td>\n",
       "      <td>Data Scientist</td>\n",
       "      <td>3-4 yrs exp</td>\n",
       "    </tr>\n",
       "  </tbody>\n",
       "</table>\n",
       "</div>"
      ],
      "text/plain": [
       "                             Total_salary_record  Avg_CTC Minimum_Salary  \\\n",
       "0                  Ab Inbev based on 10 salaries  ₹ 19.4L        ₹ 15.0L   \n",
       "1                     Optum based on 22 salaries  ₹ 15.1L        ₹ 11.0L   \n",
       "2         Fractal Analytics based on 60 salaries  ₹ 14.7L         ₹ 9.0L   \n",
       "3           Tiger Analytics based on 24 salaries  ₹ 13.4L         ₹ 8.3L   \n",
       "4              UnitedHealth based on 45 salaries  ₹ 13.3L         ₹ 7.2L   \n",
       "5                   Verizon based on 14 salaries  ₹ 12.7L        ₹ 10.0L   \n",
       "6  Ganit Business Solutions based on 12 salaries  ₹ 12.4L         ₹ 8.5L   \n",
       "7                  Deloitte based on 45 salaries  ₹ 11.2L         ₹ 6.9L   \n",
       "8             Ernst & Young based on 26 salaries  ₹ 11.1L         ₹ 6.0L   \n",
       "9                  Ericsson based on 43 salaries  ₹ 10.9L         ₹ 5.0L   \n",
       "\n",
       "  Maximum_Salary             Role    Experience  \n",
       "0        ₹ 23.0L  Data Scientist      4 yrs exp  \n",
       "1        ₹ 21.3L  Data Scientist    3-4 yrs exp  \n",
       "2        ₹ 20.8L  Data Scientist    2-4 yrs exp  \n",
       "3        ₹ 18.5L  Data Scientist    3-4 yrs exp  \n",
       "4        ₹ 20.5L  Data Scientist    2-4 yrs exp  \n",
       "5        ₹ 21.0L  Data Scientist      4 yrs exp  \n",
       "6        ₹ 15.0L  Data Scientist      4 yrs exp  \n",
       "7        ₹ 20.5L  Data Scientist    2-4 yrs exp  \n",
       "8        ₹ 20.0L  Data Scientist    3-4 yrs exp  \n",
       "9        ₹ 21.5L  Data Scientist    3-4 yrs exp  "
      ]
     },
     "execution_count": 11,
     "metadata": {},
     "output_type": "execute_result"
    }
   ],
   "source": [
    "Ambition_box_salary"
   ]
  },
  {
   "cell_type": "code",
   "execution_count": null,
   "id": "9647e3c9",
   "metadata": {},
   "outputs": [],
   "source": []
  }
 ],
 "metadata": {
  "kernelspec": {
   "display_name": "Python 3",
   "language": "python",
   "name": "python3"
  },
  "language_info": {
   "codemirror_mode": {
    "name": "ipython",
    "version": 3
   },
   "file_extension": ".py",
   "mimetype": "text/x-python",
   "name": "python",
   "nbconvert_exporter": "python",
   "pygments_lexer": "ipython3",
   "version": "3.8.8"
  }
 },
 "nbformat": 4,
 "nbformat_minor": 5
}
